{
 "cells": [
  {
   "cell_type": "markdown",
   "metadata": {},
   "source": [
    "# Project: Investigate a Dataset - Soccer Database\n",
    "\n",
    "## Table of Contents\n",
    "<ul>\n",
    "<li><a href=\"#intro\">Introduction</a></li>\n",
    "<li><a href=\"#wrangling\">Data Wrangling</a></li>\n",
    "<li><a href=\"#eda\">Exploratory Data Analysis</a></li>\n",
    "<li><a href=\"#conclusions\">Conclusions</a></li>\n",
    "</ul>"
   ]
  },
  {
   "cell_type": "markdown",
   "metadata": {},
   "source": [
    "<a id='intro'></a>\n",
    "## Introduction\n",
    "\n",
    "### Dataset Description \n",
    "This soccer database comes from Kaggle and is well suited for data analysis and machine learning. It contains data  or soccer matches, players, and teams from several European countries from 2008 to 2016. \n",
    "The Dataset contains :\n",
    "   \n",
    "   - Over 25,000 matches\n",
    "   - More than 10,000 players\n",
    "   - 11 European Countries with their lead championship\n",
    "   - Seasons 2008 to 2016\n",
    "   - Players and Teams' attributes* sourced from EA Sports' FIFA video game series, including the weekly updates\n",
    "   - Team line up with squad formation (X, Y coordinates)\n",
    "   - Betting odds from up to 10 providers\n",
    "   - Detailed match events (goal types, possession, corner, cross, fouls, cards etc…) for +10,000 matches\n",
    "\n",
    "The original dataset can be found at the [Kaggle](https://www.kaggle.com/hugomathien/soccer) website.\n",
    "\n",
    "\n",
    "__Disclaimer: The data set provided is solely for non commercial use__\n",
    "\n",
    "__*References:*__\n",
    "\n",
    "- (https://medium.com/jbennetcodes/how-to-rewrite-your-sql-queries-in-pandas-and-more-149d341fc53e)\n",
    "- (https://pypi.org/project/pandasql/)\n",
    "- (https://www.analyticsvidhya.com/blog/2021/07/pandasql-best-way-to-run-sql-queries-and-codes-in-jupyter-notebook-using-python/)\n",
    "\n",
    "\n",
    "#### Dataset Structure\n",
    "\n",
    "__*Tables:*__\n",
    "\n",
    "The dataset was provided by Kaggle in an sqlite format and the tables : \n",
    "\n",
    "- Country\n",
    "- League\n",
    "- Match\n",
    "- Player\n",
    "- Player Attributes\n",
    "- Team\n",
    "- Team attributes \n",
    "\n",
    "These tables were all exported into csv using ['DB Browser for SQLite'](https://sqlitebrowser.org/) \n",
    " \n",
    "For the purposes of this analysis 4 tables are of interest :\n",
    "* __Match__\n",
    "* __League__\n",
    "* __Team__\n",
    "* __Team Attributes__\n",
    "\n",
    "\n",
    "### Question(s) for Analysis\n",
    "\n",
    "During this analysis, the following questions will be explored :\n",
    "\n",
    "1. Is a team more likely to win a home or an away game?\n",
    "\n",
    "Understand if the location of the game impacts the outcome of the match\n",
    "   \n",
    "2. Which league had the most goals and during which season?\n",
    "\n",
    "Explore the top scoring league and understand if the top league teams have above average attributes\n",
    "    \n",
    "3. What are the attributes of the above average teams and list them ?\n",
    "\n",
    "Identify the attributes of the top teams and further understand if any of the top league teams fall within the criteria\n",
    "   \n",
    "\n"
   ]
  },
  {
   "cell_type": "markdown",
   "metadata": {},
   "source": [
    "> Importing Required Libraries and Packages to carry out the analysis\n"
   ]
  },
  {
   "cell_type": "markdown",
   "metadata": {},
   "source": [
    "#### Import and load required libraries and packages to carry out the analysis"
   ]
  },
  {
   "cell_type": "code",
   "execution_count": 226,
   "metadata": {},
   "outputs": [],
   "source": [
    "import pandas as pd\n",
    "import numpy  as np\n",
    "import matplotlib.pyplot as plt\n",
    "import seaborn as sns\n",
    "import pandasql\n",
    "from pandasql import sqldf\n",
    "%matplotlib inline"
   ]
  },
  {
   "cell_type": "markdown",
   "metadata": {},
   "source": [
    "#### Read files of interest and load into dataframes"
   ]
  },
  {
   "cell_type": "code",
   "execution_count": 227,
   "metadata": {},
   "outputs": [],
   "source": [
    "df_match = pd.read_csv('Match.csv')\n",
    "df_league = pd.read_csv('League.csv')\n",
    "df_team = pd.read_csv('Team.csv')\n",
    "df_team_att = pd.read_csv('Team_Attributes.csv')"
   ]
  },
  {
   "cell_type": "markdown",
   "metadata": {},
   "source": [
    "#### Exploring table attributes and properties"
   ]
  },
  {
   "cell_type": "code",
   "execution_count": 228,
   "metadata": {},
   "outputs": [
    {
     "data": {
      "text/plain": [
       "((25979, 115), (11, 3), (299, 5), (1458, 25))"
      ]
     },
     "execution_count": 228,
     "metadata": {},
     "output_type": "execute_result"
    }
   ],
   "source": [
    "df_match.shape, df_league.shape, df_team.shape, df_team_att.shape"
   ]
  },
  {
   "cell_type": "code",
   "execution_count": 229,
   "metadata": {},
   "outputs": [
    {
     "data": {
      "text/plain": [
       "id              int64\n",
       "country_id      int64\n",
       "league_id       int64\n",
       "season         object\n",
       "stage           int64\n",
       "               ...   \n",
       "GBD           float64\n",
       "GBA           float64\n",
       "BSH           float64\n",
       "BSD           float64\n",
       "BSA           float64\n",
       "Length: 115, dtype: object"
      ]
     },
     "execution_count": 229,
     "metadata": {},
     "output_type": "execute_result"
    }
   ],
   "source": [
    "df_match.dtypes"
   ]
  },
  {
   "cell_type": "code",
   "execution_count": 230,
   "metadata": {},
   "outputs": [
    {
     "data": {
      "text/plain": [
       "id             int64\n",
       "country_id     int64\n",
       "name          object\n",
       "dtype: object"
      ]
     },
     "execution_count": 230,
     "metadata": {},
     "output_type": "execute_result"
    }
   ],
   "source": [
    "df_league.dtypes"
   ]
  },
  {
   "cell_type": "code",
   "execution_count": 231,
   "metadata": {},
   "outputs": [
    {
     "data": {
      "text/plain": [
       "id                    int64\n",
       "team_api_id           int64\n",
       "team_fifa_api_id    float64\n",
       "team_long_name       object\n",
       "team_short_name      object\n",
       "dtype: object"
      ]
     },
     "execution_count": 231,
     "metadata": {},
     "output_type": "execute_result"
    }
   ],
   "source": [
    "df_team.dtypes"
   ]
  },
  {
   "cell_type": "code",
   "execution_count": 232,
   "metadata": {},
   "outputs": [
    {
     "data": {
      "text/plain": [
       "id                                  int64\n",
       "team_fifa_api_id                    int64\n",
       "team_api_id                         int64\n",
       "date                               object\n",
       "buildUpPlaySpeed                    int64\n",
       "buildUpPlaySpeedClass              object\n",
       "buildUpPlayDribbling              float64\n",
       "buildUpPlayDribblingClass          object\n",
       "buildUpPlayPassing                  int64\n",
       "buildUpPlayPassingClass            object\n",
       "buildUpPlayPositioningClass        object\n",
       "chanceCreationPassing               int64\n",
       "chanceCreationPassingClass         object\n",
       "chanceCreationCrossing              int64\n",
       "chanceCreationCrossingClass        object\n",
       "chanceCreationShooting              int64\n",
       "chanceCreationShootingClass        object\n",
       "chanceCreationPositioningClass     object\n",
       "defencePressure                     int64\n",
       "defencePressureClass               object\n",
       "defenceAggression                   int64\n",
       "defenceAggressionClass             object\n",
       "defenceTeamWidth                    int64\n",
       "defenceTeamWidthClass              object\n",
       "defenceDefenderLineClass           object\n",
       "dtype: object"
      ]
     },
     "execution_count": 232,
     "metadata": {},
     "output_type": "execute_result"
    }
   ],
   "source": [
    "df_team_att.dtypes"
   ]
  },
  {
   "cell_type": "code",
   "execution_count": 233,
   "metadata": {},
   "outputs": [
    {
     "data": {
      "text/plain": [
       "969"
      ]
     },
     "execution_count": 233,
     "metadata": {},
     "output_type": "execute_result"
    }
   ],
   "source": [
    "df_team_att.isna().sum().max()"
   ]
  },
  {
   "cell_type": "markdown",
   "metadata": {},
   "source": [
    "<a id='wrangling'></a>\n",
    "## Data Wrangling\n",
    "#### Exploring the datasets"
   ]
  },
  {
   "cell_type": "code",
   "execution_count": 234,
   "metadata": {},
   "outputs": [
    {
     "data": {
      "text/html": [
       "<div>\n",
       "<style scoped>\n",
       "    .dataframe tbody tr th:only-of-type {\n",
       "        vertical-align: middle;\n",
       "    }\n",
       "\n",
       "    .dataframe tbody tr th {\n",
       "        vertical-align: top;\n",
       "    }\n",
       "\n",
       "    .dataframe thead th {\n",
       "        text-align: right;\n",
       "    }\n",
       "</style>\n",
       "<table border=\"1\" class=\"dataframe\">\n",
       "  <thead>\n",
       "    <tr style=\"text-align: right;\">\n",
       "      <th></th>\n",
       "      <th>id</th>\n",
       "      <th>country_id</th>\n",
       "      <th>league_id</th>\n",
       "      <th>season</th>\n",
       "      <th>stage</th>\n",
       "      <th>date</th>\n",
       "      <th>match_api_id</th>\n",
       "      <th>home_team_api_id</th>\n",
       "      <th>away_team_api_id</th>\n",
       "      <th>home_team_goal</th>\n",
       "      <th>...</th>\n",
       "      <th>SJA</th>\n",
       "      <th>VCH</th>\n",
       "      <th>VCD</th>\n",
       "      <th>VCA</th>\n",
       "      <th>GBH</th>\n",
       "      <th>GBD</th>\n",
       "      <th>GBA</th>\n",
       "      <th>BSH</th>\n",
       "      <th>BSD</th>\n",
       "      <th>BSA</th>\n",
       "    </tr>\n",
       "  </thead>\n",
       "  <tbody>\n",
       "    <tr>\n",
       "      <th>0</th>\n",
       "      <td>1</td>\n",
       "      <td>1</td>\n",
       "      <td>1</td>\n",
       "      <td>2008/2009</td>\n",
       "      <td>1</td>\n",
       "      <td>2008-08-17 00:00:00</td>\n",
       "      <td>492473</td>\n",
       "      <td>9987</td>\n",
       "      <td>9993</td>\n",
       "      <td>1</td>\n",
       "      <td>...</td>\n",
       "      <td>4.00</td>\n",
       "      <td>1.65</td>\n",
       "      <td>3.40</td>\n",
       "      <td>4.50</td>\n",
       "      <td>1.78</td>\n",
       "      <td>3.25</td>\n",
       "      <td>4.00</td>\n",
       "      <td>1.73</td>\n",
       "      <td>3.40</td>\n",
       "      <td>4.20</td>\n",
       "    </tr>\n",
       "    <tr>\n",
       "      <th>1</th>\n",
       "      <td>2</td>\n",
       "      <td>1</td>\n",
       "      <td>1</td>\n",
       "      <td>2008/2009</td>\n",
       "      <td>1</td>\n",
       "      <td>2008-08-16 00:00:00</td>\n",
       "      <td>492474</td>\n",
       "      <td>10000</td>\n",
       "      <td>9994</td>\n",
       "      <td>0</td>\n",
       "      <td>...</td>\n",
       "      <td>3.80</td>\n",
       "      <td>2.00</td>\n",
       "      <td>3.25</td>\n",
       "      <td>3.25</td>\n",
       "      <td>1.85</td>\n",
       "      <td>3.25</td>\n",
       "      <td>3.75</td>\n",
       "      <td>1.91</td>\n",
       "      <td>3.25</td>\n",
       "      <td>3.60</td>\n",
       "    </tr>\n",
       "    <tr>\n",
       "      <th>2</th>\n",
       "      <td>3</td>\n",
       "      <td>1</td>\n",
       "      <td>1</td>\n",
       "      <td>2008/2009</td>\n",
       "      <td>1</td>\n",
       "      <td>2008-08-16 00:00:00</td>\n",
       "      <td>492475</td>\n",
       "      <td>9984</td>\n",
       "      <td>8635</td>\n",
       "      <td>0</td>\n",
       "      <td>...</td>\n",
       "      <td>2.50</td>\n",
       "      <td>2.35</td>\n",
       "      <td>3.25</td>\n",
       "      <td>2.65</td>\n",
       "      <td>2.50</td>\n",
       "      <td>3.20</td>\n",
       "      <td>2.50</td>\n",
       "      <td>2.30</td>\n",
       "      <td>3.20</td>\n",
       "      <td>2.75</td>\n",
       "    </tr>\n",
       "    <tr>\n",
       "      <th>3</th>\n",
       "      <td>4</td>\n",
       "      <td>1</td>\n",
       "      <td>1</td>\n",
       "      <td>2008/2009</td>\n",
       "      <td>1</td>\n",
       "      <td>2008-08-17 00:00:00</td>\n",
       "      <td>492476</td>\n",
       "      <td>9991</td>\n",
       "      <td>9998</td>\n",
       "      <td>5</td>\n",
       "      <td>...</td>\n",
       "      <td>7.50</td>\n",
       "      <td>1.45</td>\n",
       "      <td>3.75</td>\n",
       "      <td>6.50</td>\n",
       "      <td>1.50</td>\n",
       "      <td>3.75</td>\n",
       "      <td>5.50</td>\n",
       "      <td>1.44</td>\n",
       "      <td>3.75</td>\n",
       "      <td>6.50</td>\n",
       "    </tr>\n",
       "    <tr>\n",
       "      <th>4</th>\n",
       "      <td>5</td>\n",
       "      <td>1</td>\n",
       "      <td>1</td>\n",
       "      <td>2008/2009</td>\n",
       "      <td>1</td>\n",
       "      <td>2008-08-16 00:00:00</td>\n",
       "      <td>492477</td>\n",
       "      <td>7947</td>\n",
       "      <td>9985</td>\n",
       "      <td>1</td>\n",
       "      <td>...</td>\n",
       "      <td>1.73</td>\n",
       "      <td>4.50</td>\n",
       "      <td>3.40</td>\n",
       "      <td>1.65</td>\n",
       "      <td>4.50</td>\n",
       "      <td>3.50</td>\n",
       "      <td>1.65</td>\n",
       "      <td>4.75</td>\n",
       "      <td>3.30</td>\n",
       "      <td>1.67</td>\n",
       "    </tr>\n",
       "  </tbody>\n",
       "</table>\n",
       "<p>5 rows × 115 columns</p>\n",
       "</div>"
      ],
      "text/plain": [
       "   id  country_id  league_id     season  stage                 date  \\\n",
       "0   1           1          1  2008/2009      1  2008-08-17 00:00:00   \n",
       "1   2           1          1  2008/2009      1  2008-08-16 00:00:00   \n",
       "2   3           1          1  2008/2009      1  2008-08-16 00:00:00   \n",
       "3   4           1          1  2008/2009      1  2008-08-17 00:00:00   \n",
       "4   5           1          1  2008/2009      1  2008-08-16 00:00:00   \n",
       "\n",
       "   match_api_id  home_team_api_id  away_team_api_id  home_team_goal  ...  \\\n",
       "0        492473              9987              9993               1  ...   \n",
       "1        492474             10000              9994               0  ...   \n",
       "2        492475              9984              8635               0  ...   \n",
       "3        492476              9991              9998               5  ...   \n",
       "4        492477              7947              9985               1  ...   \n",
       "\n",
       "    SJA   VCH   VCD   VCA   GBH   GBD   GBA   BSH   BSD   BSA  \n",
       "0  4.00  1.65  3.40  4.50  1.78  3.25  4.00  1.73  3.40  4.20  \n",
       "1  3.80  2.00  3.25  3.25  1.85  3.25  3.75  1.91  3.25  3.60  \n",
       "2  2.50  2.35  3.25  2.65  2.50  3.20  2.50  2.30  3.20  2.75  \n",
       "3  7.50  1.45  3.75  6.50  1.50  3.75  5.50  1.44  3.75  6.50  \n",
       "4  1.73  4.50  3.40  1.65  4.50  3.50  1.65  4.75  3.30  1.67  \n",
       "\n",
       "[5 rows x 115 columns]"
      ]
     },
     "execution_count": 234,
     "metadata": {},
     "output_type": "execute_result"
    }
   ],
   "source": [
    "df_match.head()"
   ]
  },
  {
   "cell_type": "markdown",
   "metadata": {},
   "source": [
    "> Check for duplicates and null values"
   ]
  },
  {
   "cell_type": "code",
   "execution_count": 235,
   "metadata": {},
   "outputs": [
    {
     "data": {
      "text/plain": [
       "14811"
      ]
     },
     "execution_count": 235,
     "metadata": {},
     "output_type": "execute_result"
    }
   ],
   "source": [
    "df_match.isna().sum().max()"
   ]
  },
  {
   "cell_type": "code",
   "execution_count": 236,
   "metadata": {},
   "outputs": [
    {
     "data": {
      "text/plain": [
       "0"
      ]
     },
     "execution_count": 236,
     "metadata": {},
     "output_type": "execute_result"
    }
   ],
   "source": [
    "df_match.duplicated().sum()"
   ]
  },
  {
   "cell_type": "code",
   "execution_count": 237,
   "metadata": {},
   "outputs": [
    {
     "data": {
      "text/html": [
       "<div>\n",
       "<style scoped>\n",
       "    .dataframe tbody tr th:only-of-type {\n",
       "        vertical-align: middle;\n",
       "    }\n",
       "\n",
       "    .dataframe tbody tr th {\n",
       "        vertical-align: top;\n",
       "    }\n",
       "\n",
       "    .dataframe thead th {\n",
       "        text-align: right;\n",
       "    }\n",
       "</style>\n",
       "<table border=\"1\" class=\"dataframe\">\n",
       "  <thead>\n",
       "    <tr style=\"text-align: right;\">\n",
       "      <th></th>\n",
       "      <th>id</th>\n",
       "      <th>country_id</th>\n",
       "      <th>name</th>\n",
       "    </tr>\n",
       "  </thead>\n",
       "  <tbody>\n",
       "    <tr>\n",
       "      <th>0</th>\n",
       "      <td>1</td>\n",
       "      <td>1</td>\n",
       "      <td>Belgium Jupiler League</td>\n",
       "    </tr>\n",
       "    <tr>\n",
       "      <th>1</th>\n",
       "      <td>1729</td>\n",
       "      <td>1729</td>\n",
       "      <td>England Premier League</td>\n",
       "    </tr>\n",
       "    <tr>\n",
       "      <th>2</th>\n",
       "      <td>4769</td>\n",
       "      <td>4769</td>\n",
       "      <td>France Ligue 1</td>\n",
       "    </tr>\n",
       "    <tr>\n",
       "      <th>3</th>\n",
       "      <td>7809</td>\n",
       "      <td>7809</td>\n",
       "      <td>Germany 1. Bundesliga</td>\n",
       "    </tr>\n",
       "    <tr>\n",
       "      <th>4</th>\n",
       "      <td>10257</td>\n",
       "      <td>10257</td>\n",
       "      <td>Italy Serie A</td>\n",
       "    </tr>\n",
       "  </tbody>\n",
       "</table>\n",
       "</div>"
      ],
      "text/plain": [
       "      id  country_id                    name\n",
       "0      1           1  Belgium Jupiler League\n",
       "1   1729        1729  England Premier League\n",
       "2   4769        4769          France Ligue 1\n",
       "3   7809        7809   Germany 1. Bundesliga\n",
       "4  10257       10257           Italy Serie A"
      ]
     },
     "execution_count": 237,
     "metadata": {},
     "output_type": "execute_result"
    }
   ],
   "source": [
    "df_league.head()"
   ]
  },
  {
   "cell_type": "markdown",
   "metadata": {},
   "source": [
    "> Check for duplicates and null values"
   ]
  },
  {
   "cell_type": "code",
   "execution_count": 238,
   "metadata": {},
   "outputs": [
    {
     "data": {
      "text/plain": [
       "0"
      ]
     },
     "execution_count": 238,
     "metadata": {},
     "output_type": "execute_result"
    }
   ],
   "source": [
    "df_league.isna().sum().max()"
   ]
  },
  {
   "cell_type": "code",
   "execution_count": 239,
   "metadata": {},
   "outputs": [
    {
     "data": {
      "text/plain": [
       "0"
      ]
     },
     "execution_count": 239,
     "metadata": {},
     "output_type": "execute_result"
    }
   ],
   "source": [
    "df_league.duplicated().sum()"
   ]
  },
  {
   "cell_type": "code",
   "execution_count": 240,
   "metadata": {},
   "outputs": [
    {
     "data": {
      "text/html": [
       "<div>\n",
       "<style scoped>\n",
       "    .dataframe tbody tr th:only-of-type {\n",
       "        vertical-align: middle;\n",
       "    }\n",
       "\n",
       "    .dataframe tbody tr th {\n",
       "        vertical-align: top;\n",
       "    }\n",
       "\n",
       "    .dataframe thead th {\n",
       "        text-align: right;\n",
       "    }\n",
       "</style>\n",
       "<table border=\"1\" class=\"dataframe\">\n",
       "  <thead>\n",
       "    <tr style=\"text-align: right;\">\n",
       "      <th></th>\n",
       "      <th>id</th>\n",
       "      <th>team_api_id</th>\n",
       "      <th>team_fifa_api_id</th>\n",
       "      <th>team_long_name</th>\n",
       "      <th>team_short_name</th>\n",
       "    </tr>\n",
       "  </thead>\n",
       "  <tbody>\n",
       "    <tr>\n",
       "      <th>0</th>\n",
       "      <td>1</td>\n",
       "      <td>9987</td>\n",
       "      <td>673.0</td>\n",
       "      <td>KRC Genk</td>\n",
       "      <td>GEN</td>\n",
       "    </tr>\n",
       "    <tr>\n",
       "      <th>1</th>\n",
       "      <td>2</td>\n",
       "      <td>9993</td>\n",
       "      <td>675.0</td>\n",
       "      <td>Beerschot AC</td>\n",
       "      <td>BAC</td>\n",
       "    </tr>\n",
       "    <tr>\n",
       "      <th>2</th>\n",
       "      <td>3</td>\n",
       "      <td>10000</td>\n",
       "      <td>15005.0</td>\n",
       "      <td>SV Zulte-Waregem</td>\n",
       "      <td>ZUL</td>\n",
       "    </tr>\n",
       "    <tr>\n",
       "      <th>3</th>\n",
       "      <td>4</td>\n",
       "      <td>9994</td>\n",
       "      <td>2007.0</td>\n",
       "      <td>Sporting Lokeren</td>\n",
       "      <td>LOK</td>\n",
       "    </tr>\n",
       "    <tr>\n",
       "      <th>4</th>\n",
       "      <td>5</td>\n",
       "      <td>9984</td>\n",
       "      <td>1750.0</td>\n",
       "      <td>KSV Cercle Brugge</td>\n",
       "      <td>CEB</td>\n",
       "    </tr>\n",
       "  </tbody>\n",
       "</table>\n",
       "</div>"
      ],
      "text/plain": [
       "   id  team_api_id  team_fifa_api_id     team_long_name team_short_name\n",
       "0   1         9987             673.0           KRC Genk             GEN\n",
       "1   2         9993             675.0       Beerschot AC             BAC\n",
       "2   3        10000           15005.0   SV Zulte-Waregem             ZUL\n",
       "3   4         9994            2007.0   Sporting Lokeren             LOK\n",
       "4   5         9984            1750.0  KSV Cercle Brugge             CEB"
      ]
     },
     "execution_count": 240,
     "metadata": {},
     "output_type": "execute_result"
    }
   ],
   "source": [
    "df_team.head()"
   ]
  },
  {
   "cell_type": "markdown",
   "metadata": {},
   "source": [
    "> Check for duplicates and null values"
   ]
  },
  {
   "cell_type": "code",
   "execution_count": 241,
   "metadata": {},
   "outputs": [
    {
     "data": {
      "text/plain": [
       "11"
      ]
     },
     "execution_count": 241,
     "metadata": {},
     "output_type": "execute_result"
    }
   ],
   "source": [
    "df_team.isna().sum().max()"
   ]
  },
  {
   "cell_type": "code",
   "execution_count": 242,
   "metadata": {},
   "outputs": [
    {
     "data": {
      "text/plain": [
       "0"
      ]
     },
     "execution_count": 242,
     "metadata": {},
     "output_type": "execute_result"
    }
   ],
   "source": [
    "df_team.duplicated().sum()"
   ]
  },
  {
   "cell_type": "code",
   "execution_count": 243,
   "metadata": {},
   "outputs": [
    {
     "data": {
      "text/html": [
       "<div>\n",
       "<style scoped>\n",
       "    .dataframe tbody tr th:only-of-type {\n",
       "        vertical-align: middle;\n",
       "    }\n",
       "\n",
       "    .dataframe tbody tr th {\n",
       "        vertical-align: top;\n",
       "    }\n",
       "\n",
       "    .dataframe thead th {\n",
       "        text-align: right;\n",
       "    }\n",
       "</style>\n",
       "<table border=\"1\" class=\"dataframe\">\n",
       "  <thead>\n",
       "    <tr style=\"text-align: right;\">\n",
       "      <th></th>\n",
       "      <th>id</th>\n",
       "      <th>team_fifa_api_id</th>\n",
       "      <th>team_api_id</th>\n",
       "      <th>date</th>\n",
       "      <th>buildUpPlaySpeed</th>\n",
       "      <th>buildUpPlaySpeedClass</th>\n",
       "      <th>buildUpPlayDribbling</th>\n",
       "      <th>buildUpPlayDribblingClass</th>\n",
       "      <th>buildUpPlayPassing</th>\n",
       "      <th>buildUpPlayPassingClass</th>\n",
       "      <th>...</th>\n",
       "      <th>chanceCreationShooting</th>\n",
       "      <th>chanceCreationShootingClass</th>\n",
       "      <th>chanceCreationPositioningClass</th>\n",
       "      <th>defencePressure</th>\n",
       "      <th>defencePressureClass</th>\n",
       "      <th>defenceAggression</th>\n",
       "      <th>defenceAggressionClass</th>\n",
       "      <th>defenceTeamWidth</th>\n",
       "      <th>defenceTeamWidthClass</th>\n",
       "      <th>defenceDefenderLineClass</th>\n",
       "    </tr>\n",
       "  </thead>\n",
       "  <tbody>\n",
       "    <tr>\n",
       "      <th>0</th>\n",
       "      <td>1</td>\n",
       "      <td>434</td>\n",
       "      <td>9930</td>\n",
       "      <td>2010-02-22 00:00:00</td>\n",
       "      <td>60</td>\n",
       "      <td>Balanced</td>\n",
       "      <td>NaN</td>\n",
       "      <td>Little</td>\n",
       "      <td>50</td>\n",
       "      <td>Mixed</td>\n",
       "      <td>...</td>\n",
       "      <td>55</td>\n",
       "      <td>Normal</td>\n",
       "      <td>Organised</td>\n",
       "      <td>50</td>\n",
       "      <td>Medium</td>\n",
       "      <td>55</td>\n",
       "      <td>Press</td>\n",
       "      <td>45</td>\n",
       "      <td>Normal</td>\n",
       "      <td>Cover</td>\n",
       "    </tr>\n",
       "    <tr>\n",
       "      <th>1</th>\n",
       "      <td>2</td>\n",
       "      <td>434</td>\n",
       "      <td>9930</td>\n",
       "      <td>2014-09-19 00:00:00</td>\n",
       "      <td>52</td>\n",
       "      <td>Balanced</td>\n",
       "      <td>48.0</td>\n",
       "      <td>Normal</td>\n",
       "      <td>56</td>\n",
       "      <td>Mixed</td>\n",
       "      <td>...</td>\n",
       "      <td>64</td>\n",
       "      <td>Normal</td>\n",
       "      <td>Organised</td>\n",
       "      <td>47</td>\n",
       "      <td>Medium</td>\n",
       "      <td>44</td>\n",
       "      <td>Press</td>\n",
       "      <td>54</td>\n",
       "      <td>Normal</td>\n",
       "      <td>Cover</td>\n",
       "    </tr>\n",
       "    <tr>\n",
       "      <th>2</th>\n",
       "      <td>3</td>\n",
       "      <td>434</td>\n",
       "      <td>9930</td>\n",
       "      <td>2015-09-10 00:00:00</td>\n",
       "      <td>47</td>\n",
       "      <td>Balanced</td>\n",
       "      <td>41.0</td>\n",
       "      <td>Normal</td>\n",
       "      <td>54</td>\n",
       "      <td>Mixed</td>\n",
       "      <td>...</td>\n",
       "      <td>64</td>\n",
       "      <td>Normal</td>\n",
       "      <td>Organised</td>\n",
       "      <td>47</td>\n",
       "      <td>Medium</td>\n",
       "      <td>44</td>\n",
       "      <td>Press</td>\n",
       "      <td>54</td>\n",
       "      <td>Normal</td>\n",
       "      <td>Cover</td>\n",
       "    </tr>\n",
       "    <tr>\n",
       "      <th>3</th>\n",
       "      <td>4</td>\n",
       "      <td>77</td>\n",
       "      <td>8485</td>\n",
       "      <td>2010-02-22 00:00:00</td>\n",
       "      <td>70</td>\n",
       "      <td>Fast</td>\n",
       "      <td>NaN</td>\n",
       "      <td>Little</td>\n",
       "      <td>70</td>\n",
       "      <td>Long</td>\n",
       "      <td>...</td>\n",
       "      <td>70</td>\n",
       "      <td>Lots</td>\n",
       "      <td>Organised</td>\n",
       "      <td>60</td>\n",
       "      <td>Medium</td>\n",
       "      <td>70</td>\n",
       "      <td>Double</td>\n",
       "      <td>70</td>\n",
       "      <td>Wide</td>\n",
       "      <td>Cover</td>\n",
       "    </tr>\n",
       "    <tr>\n",
       "      <th>4</th>\n",
       "      <td>5</td>\n",
       "      <td>77</td>\n",
       "      <td>8485</td>\n",
       "      <td>2011-02-22 00:00:00</td>\n",
       "      <td>47</td>\n",
       "      <td>Balanced</td>\n",
       "      <td>NaN</td>\n",
       "      <td>Little</td>\n",
       "      <td>52</td>\n",
       "      <td>Mixed</td>\n",
       "      <td>...</td>\n",
       "      <td>52</td>\n",
       "      <td>Normal</td>\n",
       "      <td>Organised</td>\n",
       "      <td>47</td>\n",
       "      <td>Medium</td>\n",
       "      <td>47</td>\n",
       "      <td>Press</td>\n",
       "      <td>52</td>\n",
       "      <td>Normal</td>\n",
       "      <td>Cover</td>\n",
       "    </tr>\n",
       "  </tbody>\n",
       "</table>\n",
       "<p>5 rows × 25 columns</p>\n",
       "</div>"
      ],
      "text/plain": [
       "   id  team_fifa_api_id  team_api_id                 date  buildUpPlaySpeed  \\\n",
       "0   1               434         9930  2010-02-22 00:00:00                60   \n",
       "1   2               434         9930  2014-09-19 00:00:00                52   \n",
       "2   3               434         9930  2015-09-10 00:00:00                47   \n",
       "3   4                77         8485  2010-02-22 00:00:00                70   \n",
       "4   5                77         8485  2011-02-22 00:00:00                47   \n",
       "\n",
       "  buildUpPlaySpeedClass  buildUpPlayDribbling buildUpPlayDribblingClass  \\\n",
       "0              Balanced                   NaN                    Little   \n",
       "1              Balanced                  48.0                    Normal   \n",
       "2              Balanced                  41.0                    Normal   \n",
       "3                  Fast                   NaN                    Little   \n",
       "4              Balanced                   NaN                    Little   \n",
       "\n",
       "   buildUpPlayPassing buildUpPlayPassingClass  ... chanceCreationShooting  \\\n",
       "0                  50                   Mixed  ...                     55   \n",
       "1                  56                   Mixed  ...                     64   \n",
       "2                  54                   Mixed  ...                     64   \n",
       "3                  70                    Long  ...                     70   \n",
       "4                  52                   Mixed  ...                     52   \n",
       "\n",
       "   chanceCreationShootingClass chanceCreationPositioningClass  \\\n",
       "0                       Normal                      Organised   \n",
       "1                       Normal                      Organised   \n",
       "2                       Normal                      Organised   \n",
       "3                         Lots                      Organised   \n",
       "4                       Normal                      Organised   \n",
       "\n",
       "   defencePressure defencePressureClass  defenceAggression  \\\n",
       "0               50               Medium                 55   \n",
       "1               47               Medium                 44   \n",
       "2               47               Medium                 44   \n",
       "3               60               Medium                 70   \n",
       "4               47               Medium                 47   \n",
       "\n",
       "  defenceAggressionClass defenceTeamWidth  defenceTeamWidthClass  \\\n",
       "0                  Press               45                 Normal   \n",
       "1                  Press               54                 Normal   \n",
       "2                  Press               54                 Normal   \n",
       "3                 Double               70                   Wide   \n",
       "4                  Press               52                 Normal   \n",
       "\n",
       "  defenceDefenderLineClass  \n",
       "0                    Cover  \n",
       "1                    Cover  \n",
       "2                    Cover  \n",
       "3                    Cover  \n",
       "4                    Cover  \n",
       "\n",
       "[5 rows x 25 columns]"
      ]
     },
     "execution_count": 243,
     "metadata": {},
     "output_type": "execute_result"
    }
   ],
   "source": [
    "df_team_att.head()"
   ]
  },
  {
   "cell_type": "markdown",
   "metadata": {},
   "source": [
    "> Check for duplicates and null values"
   ]
  },
  {
   "cell_type": "code",
   "execution_count": 244,
   "metadata": {},
   "outputs": [
    {
     "data": {
      "text/plain": [
       "id                                  0\n",
       "team_fifa_api_id                    0\n",
       "team_api_id                         0\n",
       "date                                0\n",
       "buildUpPlaySpeed                    0\n",
       "buildUpPlaySpeedClass               0\n",
       "buildUpPlayDribbling              969\n",
       "buildUpPlayDribblingClass           0\n",
       "buildUpPlayPassing                  0\n",
       "buildUpPlayPassingClass             0\n",
       "buildUpPlayPositioningClass         0\n",
       "chanceCreationPassing               0\n",
       "chanceCreationPassingClass          0\n",
       "chanceCreationCrossing              0\n",
       "chanceCreationCrossingClass         0\n",
       "chanceCreationShooting              0\n",
       "chanceCreationShootingClass         0\n",
       "chanceCreationPositioningClass      0\n",
       "defencePressure                     0\n",
       "defencePressureClass                0\n",
       "defenceAggression                   0\n",
       "defenceAggressionClass              0\n",
       "defenceTeamWidth                    0\n",
       "defenceTeamWidthClass               0\n",
       "defenceDefenderLineClass            0\n",
       "dtype: int64"
      ]
     },
     "execution_count": 244,
     "metadata": {},
     "output_type": "execute_result"
    }
   ],
   "source": [
    "df_team_att.isna().sum()"
   ]
  },
  {
   "cell_type": "code",
   "execution_count": 245,
   "metadata": {},
   "outputs": [
    {
     "data": {
      "text/plain": [
       "0"
      ]
     },
     "execution_count": 245,
     "metadata": {},
     "output_type": "execute_result"
    }
   ],
   "source": [
    "df_team_att.duplicated().sum()"
   ]
  },
  {
   "cell_type": "markdown",
   "metadata": {},
   "source": [
    "\n",
    "### Data Cleaning\n"
   ]
  },
  {
   "cell_type": "markdown",
   "metadata": {},
   "source": [
    "The data looks to be reasonably clean and consistent. Columns not required for this analysis will be dropped (eg. betting and description columns in the match data frame, api id, etc .. )\n",
    "\n",
    "Null and duplicated columns are expected to be dropped during this stage but the impact and treatment will be decided as this step progresses post dropping the columns that will not be used for the analysis\n"
   ]
  },
  {
   "cell_type": "markdown",
   "metadata": {},
   "source": [
    "##### Cleaning Match Table"
   ]
  },
  {
   "cell_type": "markdown",
   "metadata": {},
   "source": [
    "> Columns identified to be dropped from the match table :"
   ]
  },
  {
   "cell_type": "markdown",
   "metadata": {},
   "source": [
    "|               |               |               |               |               |\n",
    "|:--------------|:--------------|:--------------|:--------------|:--------------|\n",
    "|home_player_X1\t|home_player_X2\t|home_player_X3\t|home_player_X4\t|home_player_X5\t|\n",
    "|home_player_X6\t|home_player_X7\t|home_player_X8\t|home_player_X9\t|home_player_X10|\t\n",
    "|home_player_X11|away_player_X1\t|away_player_X2\t|away_player_X3\t|away_player_X4 |\t\n",
    "|away_player_X5\t|away_player_X6\t|away_player_X7\t|away_player_X8\t|away_player_X9\t|\n",
    "|away_player_X10|away_player_X11|home_player_Y1\t|home_player_Y2\t|home_player_Y3\t|\n",
    "|home_player_Y4\t|home_player_Y5\t|home_player_Y6\t|home_player_Y7\t|home_player_Y8\t|\n",
    "|home_player_Y9\t|home_player_Y10|home_player_Y11|away_player_Y1\t|away_player_Y2 |\n",
    "|away_player_Y3\t|away_player_Y4\t|away_player_Y5\t|away_player_Y6\t|away_player_Y7\t|\n",
    "|away_player_Y8\t|away_player_Y9\t|away_player_Y10|away_player_Y11|home_player_1\t|\n",
    "|home_player_2\t|home_player_3\t|home_player_4\t|home_player_5\t|home_player_6\t|\n",
    "|home_player_7  |home_player_8\t|home_player_9\t|home_player_10\t|home_player_11\t|\n",
    "|away_player_1  |away_player_2\t|away_player_3\t|away_player_4\t|away_player_5\t|\n",
    "|away_player_6  |away_player_7  |away_player_8\t|away_player_9\t|away_player_10\t|\n",
    "|away_player_11\t|goal           |shoton\t        |shotoff\t    |foulcommit\t    |\n",
    "|card\t        |cross          |corner\t        |possession\t    |B365H\t        |\n",
    "|B365D          |B365A          |BWH\t        |BWD\t        |BWA            |\t\n",
    "|IWH            |IWD            |IWA            |LBH            |LBD            |\t\n",
    "|LBA            |PSH\t        |PSD            |PSA            |WHH            |\n",
    "|WHD            |WHA            |SJH\t        |SJD\t        |SJA            |\t\n",
    "|VCH            |VCD            |VCA            |GBH\t        |GBD\t        |\n",
    "|GBA            |BSH            |BSD            |BSA            |               |\n"
   ]
  },
  {
   "cell_type": "markdown",
   "metadata": {},
   "source": [
    "These columns include player locations, match statistics and betting info as researched on the Kaggle website and the provided references."
   ]
  },
  {
   "cell_type": "code",
   "execution_count": 246,
   "metadata": {},
   "outputs": [],
   "source": [
    "df_match.drop(['home_player_X1','home_player_X2','home_player_X3','home_player_X4',\n",
    "               'home_player_X5','home_player_X6','home_player_X7','home_player_X8',\n",
    "               'home_player_X9','home_player_X10','home_player_X11','away_player_X1',\n",
    "               'away_player_X2','away_player_X3','away_player_X4','away_player_X5',\n",
    "               'away_player_X6','away_player_X7','away_player_X8','away_player_X9',\n",
    "               'away_player_X10','away_player_X11','home_player_Y1','home_player_Y2',\n",
    "               'home_player_Y3','home_player_Y4','home_player_Y5','home_player_Y6',\n",
    "               'home_player_Y7','home_player_Y8','home_player_Y9','home_player_Y10',\n",
    "               'home_player_Y11','away_player_Y1','away_player_Y2','away_player_Y3',\n",
    "               'away_player_Y4','away_player_Y5','away_player_Y6','away_player_Y7',\n",
    "               'away_player_Y8','away_player_Y9','away_player_Y10','away_player_Y11',\n",
    "               'home_player_1','home_player_2','home_player_3','home_player_4',\n",
    "               'home_player_5','home_player_6','home_player_7','home_player_8',\n",
    "               'home_player_9','home_player_10','home_player_11','away_player_1',\n",
    "               'away_player_2','away_player_3','away_player_4','away_player_5',\n",
    "               'away_player_6','away_player_7','away_player_8','away_player_9',\n",
    "               'away_player_10','away_player_11','goal','shoton','shotoff','foulcommit',\n",
    "               'card','cross','corner','possession','B365H','B365D','B365A','BWH','BWD',\n",
    "               'BWA','IWH','IWD','IWA','LBH','LBD','LBA','PSH','PSD','PSA','WHH','WHD',\n",
    "               'WHA','SJH','SJD','SJA','VCH','VCD','VCA','GBH','GBD','GBA','BSH','BSD','BSA'\n",
    "], axis = 1, inplace = True)"
   ]
  },
  {
   "cell_type": "markdown",
   "metadata": {},
   "source": [
    ">Check Changes"
   ]
  },
  {
   "cell_type": "code",
   "execution_count": 247,
   "metadata": {},
   "outputs": [
    {
     "data": {
      "text/plain": [
       "(25979, 11)"
      ]
     },
     "execution_count": 247,
     "metadata": {},
     "output_type": "execute_result"
    }
   ],
   "source": [
    "df_match.shape"
   ]
  },
  {
   "cell_type": "code",
   "execution_count": 248,
   "metadata": {},
   "outputs": [
    {
     "data": {
      "text/html": [
       "<div>\n",
       "<style scoped>\n",
       "    .dataframe tbody tr th:only-of-type {\n",
       "        vertical-align: middle;\n",
       "    }\n",
       "\n",
       "    .dataframe tbody tr th {\n",
       "        vertical-align: top;\n",
       "    }\n",
       "\n",
       "    .dataframe thead th {\n",
       "        text-align: right;\n",
       "    }\n",
       "</style>\n",
       "<table border=\"1\" class=\"dataframe\">\n",
       "  <thead>\n",
       "    <tr style=\"text-align: right;\">\n",
       "      <th></th>\n",
       "      <th>id</th>\n",
       "      <th>country_id</th>\n",
       "      <th>league_id</th>\n",
       "      <th>season</th>\n",
       "      <th>stage</th>\n",
       "      <th>date</th>\n",
       "      <th>match_api_id</th>\n",
       "      <th>home_team_api_id</th>\n",
       "      <th>away_team_api_id</th>\n",
       "      <th>home_team_goal</th>\n",
       "      <th>away_team_goal</th>\n",
       "    </tr>\n",
       "  </thead>\n",
       "  <tbody>\n",
       "    <tr>\n",
       "      <th>0</th>\n",
       "      <td>1</td>\n",
       "      <td>1</td>\n",
       "      <td>1</td>\n",
       "      <td>2008/2009</td>\n",
       "      <td>1</td>\n",
       "      <td>2008-08-17 00:00:00</td>\n",
       "      <td>492473</td>\n",
       "      <td>9987</td>\n",
       "      <td>9993</td>\n",
       "      <td>1</td>\n",
       "      <td>1</td>\n",
       "    </tr>\n",
       "    <tr>\n",
       "      <th>1</th>\n",
       "      <td>2</td>\n",
       "      <td>1</td>\n",
       "      <td>1</td>\n",
       "      <td>2008/2009</td>\n",
       "      <td>1</td>\n",
       "      <td>2008-08-16 00:00:00</td>\n",
       "      <td>492474</td>\n",
       "      <td>10000</td>\n",
       "      <td>9994</td>\n",
       "      <td>0</td>\n",
       "      <td>0</td>\n",
       "    </tr>\n",
       "    <tr>\n",
       "      <th>2</th>\n",
       "      <td>3</td>\n",
       "      <td>1</td>\n",
       "      <td>1</td>\n",
       "      <td>2008/2009</td>\n",
       "      <td>1</td>\n",
       "      <td>2008-08-16 00:00:00</td>\n",
       "      <td>492475</td>\n",
       "      <td>9984</td>\n",
       "      <td>8635</td>\n",
       "      <td>0</td>\n",
       "      <td>3</td>\n",
       "    </tr>\n",
       "    <tr>\n",
       "      <th>3</th>\n",
       "      <td>4</td>\n",
       "      <td>1</td>\n",
       "      <td>1</td>\n",
       "      <td>2008/2009</td>\n",
       "      <td>1</td>\n",
       "      <td>2008-08-17 00:00:00</td>\n",
       "      <td>492476</td>\n",
       "      <td>9991</td>\n",
       "      <td>9998</td>\n",
       "      <td>5</td>\n",
       "      <td>0</td>\n",
       "    </tr>\n",
       "    <tr>\n",
       "      <th>4</th>\n",
       "      <td>5</td>\n",
       "      <td>1</td>\n",
       "      <td>1</td>\n",
       "      <td>2008/2009</td>\n",
       "      <td>1</td>\n",
       "      <td>2008-08-16 00:00:00</td>\n",
       "      <td>492477</td>\n",
       "      <td>7947</td>\n",
       "      <td>9985</td>\n",
       "      <td>1</td>\n",
       "      <td>3</td>\n",
       "    </tr>\n",
       "  </tbody>\n",
       "</table>\n",
       "</div>"
      ],
      "text/plain": [
       "   id  country_id  league_id     season  stage                 date  \\\n",
       "0   1           1          1  2008/2009      1  2008-08-17 00:00:00   \n",
       "1   2           1          1  2008/2009      1  2008-08-16 00:00:00   \n",
       "2   3           1          1  2008/2009      1  2008-08-16 00:00:00   \n",
       "3   4           1          1  2008/2009      1  2008-08-17 00:00:00   \n",
       "4   5           1          1  2008/2009      1  2008-08-16 00:00:00   \n",
       "\n",
       "   match_api_id  home_team_api_id  away_team_api_id  home_team_goal  \\\n",
       "0        492473              9987              9993               1   \n",
       "1        492474             10000              9994               0   \n",
       "2        492475              9984              8635               0   \n",
       "3        492476              9991              9998               5   \n",
       "4        492477              7947              9985               1   \n",
       "\n",
       "   away_team_goal  \n",
       "0               1  \n",
       "1               0  \n",
       "2               3  \n",
       "3               0  \n",
       "4               3  "
      ]
     },
     "execution_count": 248,
     "metadata": {},
     "output_type": "execute_result"
    }
   ],
   "source": [
    "df_match.head()"
   ]
  },
  {
   "cell_type": "code",
   "execution_count": 249,
   "metadata": {},
   "outputs": [
    {
     "data": {
      "text/plain": [
       "0"
      ]
     },
     "execution_count": 249,
     "metadata": {},
     "output_type": "execute_result"
    }
   ],
   "source": [
    "df_match.duplicated().sum()"
   ]
  },
  {
   "cell_type": "code",
   "execution_count": 250,
   "metadata": {},
   "outputs": [
    {
     "data": {
      "text/plain": [
       "id                  0\n",
       "country_id          0\n",
       "league_id           0\n",
       "season              0\n",
       "stage               0\n",
       "date                0\n",
       "match_api_id        0\n",
       "home_team_api_id    0\n",
       "away_team_api_id    0\n",
       "home_team_goal      0\n",
       "away_team_goal      0\n",
       "dtype: int64"
      ]
     },
     "execution_count": 250,
     "metadata": {},
     "output_type": "execute_result"
    }
   ],
   "source": [
    "df_match.isna().sum()"
   ]
  },
  {
   "cell_type": "markdown",
   "metadata": {},
   "source": [
    "##### Cleaning League Table"
   ]
  },
  {
   "cell_type": "markdown",
   "metadata": {},
   "source": [
    "The League table does not require any cleaning"
   ]
  },
  {
   "cell_type": "markdown",
   "metadata": {},
   "source": [
    "##### Cleaning Team Table"
   ]
  },
  {
   "cell_type": "markdown",
   "metadata": {},
   "source": [
    "As observed from the initial check , the team table seems to be clean with the exception of a few missing records."
   ]
  },
  {
   "cell_type": "code",
   "execution_count": 251,
   "metadata": {},
   "outputs": [
    {
     "data": {
      "text/plain": [
       "id                   0\n",
       "team_api_id          0\n",
       "team_fifa_api_id    11\n",
       "team_long_name       0\n",
       "team_short_name      0\n",
       "dtype: int64"
      ]
     },
     "execution_count": 251,
     "metadata": {},
     "output_type": "execute_result"
    }
   ],
   "source": [
    "df_team.isna().sum()"
   ]
  },
  {
   "cell_type": "markdown",
   "metadata": {},
   "source": [
    "The team_fifa_api_id is irrelevant for our current analysis and is dropped"
   ]
  },
  {
   "cell_type": "code",
   "execution_count": 252,
   "metadata": {},
   "outputs": [],
   "source": [
    "df_team.drop(['team_fifa_api_id'], axis = 1, inplace =True)"
   ]
  },
  {
   "cell_type": "markdown",
   "metadata": {},
   "source": [
    "> Confirm Changes"
   ]
  },
  {
   "cell_type": "code",
   "execution_count": 253,
   "metadata": {},
   "outputs": [
    {
     "data": {
      "text/plain": [
       "id                 0\n",
       "team_api_id        0\n",
       "team_long_name     0\n",
       "team_short_name    0\n",
       "dtype: int64"
      ]
     },
     "execution_count": 253,
     "metadata": {},
     "output_type": "execute_result"
    }
   ],
   "source": [
    "df_team.isna().sum()"
   ]
  },
  {
   "cell_type": "markdown",
   "metadata": {},
   "source": [
    "##### Cleaning Team Attributes Table"
   ]
  },
  {
   "cell_type": "code",
   "execution_count": 254,
   "metadata": {},
   "outputs": [
    {
     "data": {
      "text/plain": [
       "969"
      ]
     },
     "execution_count": 254,
     "metadata": {},
     "output_type": "execute_result"
    }
   ],
   "source": [
    "df_team_att_old = df_team_att.copy() #Keep a copy of the original dataframe to assess the impact of the dropped columns\n",
    "\n",
    "df_team_att.isna().any(axis=1).sum()"
   ]
  },
  {
   "cell_type": "code",
   "execution_count": 255,
   "metadata": {},
   "outputs": [
    {
     "data": {
      "text/plain": [
       "0"
      ]
     },
     "execution_count": 255,
     "metadata": {},
     "output_type": "execute_result"
    }
   ],
   "source": [
    "df_team_att.duplicated().sum()"
   ]
  },
  {
   "cell_type": "markdown",
   "metadata": {},
   "source": [
    "As observed, the player attributes table contains 969 rows with missing values all in the buildUpPlayDribbling column. This feature will be excluded from the analysis and the column will be dropped"
   ]
  },
  {
   "cell_type": "code",
   "execution_count": 256,
   "metadata": {},
   "outputs": [],
   "source": [
    "df_team_att.drop(['buildUpPlayDribbling'], axis = 1, inplace =True)"
   ]
  },
  {
   "cell_type": "markdown",
   "metadata": {},
   "source": [
    "> Confirm Changes"
   ]
  },
  {
   "cell_type": "code",
   "execution_count": 257,
   "metadata": {},
   "outputs": [
    {
     "data": {
      "text/plain": [
       "0"
      ]
     },
     "execution_count": 257,
     "metadata": {},
     "output_type": "execute_result"
    }
   ],
   "source": [
    "df_team_att.isna().any(axis=1).sum()"
   ]
  },
  {
   "cell_type": "code",
   "execution_count": 258,
   "metadata": {},
   "outputs": [
    {
     "data": {
      "text/plain": [
       "(1458, 24)"
      ]
     },
     "execution_count": 258,
     "metadata": {},
     "output_type": "execute_result"
    }
   ],
   "source": [
    "df_team_att.shape"
   ]
  },
  {
   "cell_type": "markdown",
   "metadata": {},
   "source": [
    "### Research Question 1  - Is a team more likely to win a home or an away game?"
   ]
  },
  {
   "cell_type": "markdown",
   "metadata": {},
   "source": [
    "> Refer to the match table as the reference for match statistics"
   ]
  },
  {
   "cell_type": "code",
   "execution_count": 259,
   "metadata": {},
   "outputs": [
    {
     "data": {
      "text/html": [
       "<div>\n",
       "<style scoped>\n",
       "    .dataframe tbody tr th:only-of-type {\n",
       "        vertical-align: middle;\n",
       "    }\n",
       "\n",
       "    .dataframe tbody tr th {\n",
       "        vertical-align: top;\n",
       "    }\n",
       "\n",
       "    .dataframe thead th {\n",
       "        text-align: right;\n",
       "    }\n",
       "</style>\n",
       "<table border=\"1\" class=\"dataframe\">\n",
       "  <thead>\n",
       "    <tr style=\"text-align: right;\">\n",
       "      <th></th>\n",
       "      <th>id</th>\n",
       "      <th>country_id</th>\n",
       "      <th>league_id</th>\n",
       "      <th>season</th>\n",
       "      <th>stage</th>\n",
       "      <th>date</th>\n",
       "      <th>match_api_id</th>\n",
       "      <th>home_team_api_id</th>\n",
       "      <th>away_team_api_id</th>\n",
       "      <th>home_team_goal</th>\n",
       "      <th>away_team_goal</th>\n",
       "    </tr>\n",
       "  </thead>\n",
       "  <tbody>\n",
       "    <tr>\n",
       "      <th>0</th>\n",
       "      <td>1</td>\n",
       "      <td>1</td>\n",
       "      <td>1</td>\n",
       "      <td>2008/2009</td>\n",
       "      <td>1</td>\n",
       "      <td>2008-08-17 00:00:00</td>\n",
       "      <td>492473</td>\n",
       "      <td>9987</td>\n",
       "      <td>9993</td>\n",
       "      <td>1</td>\n",
       "      <td>1</td>\n",
       "    </tr>\n",
       "    <tr>\n",
       "      <th>1</th>\n",
       "      <td>2</td>\n",
       "      <td>1</td>\n",
       "      <td>1</td>\n",
       "      <td>2008/2009</td>\n",
       "      <td>1</td>\n",
       "      <td>2008-08-16 00:00:00</td>\n",
       "      <td>492474</td>\n",
       "      <td>10000</td>\n",
       "      <td>9994</td>\n",
       "      <td>0</td>\n",
       "      <td>0</td>\n",
       "    </tr>\n",
       "    <tr>\n",
       "      <th>2</th>\n",
       "      <td>3</td>\n",
       "      <td>1</td>\n",
       "      <td>1</td>\n",
       "      <td>2008/2009</td>\n",
       "      <td>1</td>\n",
       "      <td>2008-08-16 00:00:00</td>\n",
       "      <td>492475</td>\n",
       "      <td>9984</td>\n",
       "      <td>8635</td>\n",
       "      <td>0</td>\n",
       "      <td>3</td>\n",
       "    </tr>\n",
       "    <tr>\n",
       "      <th>3</th>\n",
       "      <td>4</td>\n",
       "      <td>1</td>\n",
       "      <td>1</td>\n",
       "      <td>2008/2009</td>\n",
       "      <td>1</td>\n",
       "      <td>2008-08-17 00:00:00</td>\n",
       "      <td>492476</td>\n",
       "      <td>9991</td>\n",
       "      <td>9998</td>\n",
       "      <td>5</td>\n",
       "      <td>0</td>\n",
       "    </tr>\n",
       "    <tr>\n",
       "      <th>4</th>\n",
       "      <td>5</td>\n",
       "      <td>1</td>\n",
       "      <td>1</td>\n",
       "      <td>2008/2009</td>\n",
       "      <td>1</td>\n",
       "      <td>2008-08-16 00:00:00</td>\n",
       "      <td>492477</td>\n",
       "      <td>7947</td>\n",
       "      <td>9985</td>\n",
       "      <td>1</td>\n",
       "      <td>3</td>\n",
       "    </tr>\n",
       "  </tbody>\n",
       "</table>\n",
       "</div>"
      ],
      "text/plain": [
       "   id  country_id  league_id     season  stage                 date  \\\n",
       "0   1           1          1  2008/2009      1  2008-08-17 00:00:00   \n",
       "1   2           1          1  2008/2009      1  2008-08-16 00:00:00   \n",
       "2   3           1          1  2008/2009      1  2008-08-16 00:00:00   \n",
       "3   4           1          1  2008/2009      1  2008-08-17 00:00:00   \n",
       "4   5           1          1  2008/2009      1  2008-08-16 00:00:00   \n",
       "\n",
       "   match_api_id  home_team_api_id  away_team_api_id  home_team_goal  \\\n",
       "0        492473              9987              9993               1   \n",
       "1        492474             10000              9994               0   \n",
       "2        492475              9984              8635               0   \n",
       "3        492476              9991              9998               5   \n",
       "4        492477              7947              9985               1   \n",
       "\n",
       "   away_team_goal  \n",
       "0               1  \n",
       "1               0  \n",
       "2               3  \n",
       "3               0  \n",
       "4               3  "
      ]
     },
     "execution_count": 259,
     "metadata": {},
     "output_type": "execute_result"
    }
   ],
   "source": [
    "df_match.head()"
   ]
  },
  {
   "cell_type": "markdown",
   "metadata": {},
   "source": [
    "> Update Match dataframe with result winner tag (Home, Away, Tie)"
   ]
  },
  {
   "cell_type": "code",
   "execution_count": 260,
   "metadata": {},
   "outputs": [],
   "source": [
    "df = df_match\n",
    "df['result'] = df.apply(lambda x: 'Home' if x['home_team_goal'] > x['away_team_goal'] \n",
    "               else ('Away' if x['away_team_goal'] > x['home_team_goal']  else 'Tie'), axis=1)"
   ]
  },
  {
   "cell_type": "markdown",
   "metadata": {},
   "source": [
    "> Plot results"
   ]
  },
  {
   "cell_type": "code",
   "execution_count": 261,
   "metadata": {},
   "outputs": [
    {
     "data": {
      "text/html": [
       "<div>\n",
       "<style scoped>\n",
       "    .dataframe tbody tr th:only-of-type {\n",
       "        vertical-align: middle;\n",
       "    }\n",
       "\n",
       "    .dataframe tbody tr th {\n",
       "        vertical-align: top;\n",
       "    }\n",
       "\n",
       "    .dataframe thead th {\n",
       "        text-align: right;\n",
       "    }\n",
       "</style>\n",
       "<table border=\"1\" class=\"dataframe\">\n",
       "  <thead>\n",
       "    <tr style=\"text-align: right;\">\n",
       "      <th></th>\n",
       "      <th>count</th>\n",
       "      <th>unique</th>\n",
       "      <th>top</th>\n",
       "      <th>freq</th>\n",
       "    </tr>\n",
       "    <tr>\n",
       "      <th>result</th>\n",
       "      <th></th>\n",
       "      <th></th>\n",
       "      <th></th>\n",
       "      <th></th>\n",
       "    </tr>\n",
       "  </thead>\n",
       "  <tbody>\n",
       "    <tr>\n",
       "      <th>Away</th>\n",
       "      <td>7466</td>\n",
       "      <td>1</td>\n",
       "      <td>Away</td>\n",
       "      <td>7466</td>\n",
       "    </tr>\n",
       "    <tr>\n",
       "      <th>Home</th>\n",
       "      <td>11917</td>\n",
       "      <td>1</td>\n",
       "      <td>Home</td>\n",
       "      <td>11917</td>\n",
       "    </tr>\n",
       "    <tr>\n",
       "      <th>Tie</th>\n",
       "      <td>6596</td>\n",
       "      <td>1</td>\n",
       "      <td>Tie</td>\n",
       "      <td>6596</td>\n",
       "    </tr>\n",
       "  </tbody>\n",
       "</table>\n",
       "</div>"
      ],
      "text/plain": [
       "        count unique   top   freq\n",
       "result                           \n",
       "Away     7466      1  Away   7466\n",
       "Home    11917      1  Home  11917\n",
       "Tie      6596      1   Tie   6596"
      ]
     },
     "execution_count": 261,
     "metadata": {},
     "output_type": "execute_result"
    },
    {
     "data": {
      "image/png": "[encoded data removed]",
      "text/plain": [
       "<Figure size 360x360 with 1 Axes>"
      ]
     },
     "metadata": {
      "needs_background": "light"
     },
     "output_type": "display_data"
    }
   ],
   "source": [
    "sns.displot(df['result'], kde=False, color='blue');\n",
    "plt.title('Number of Wins Home vs. Away for the period 2008 to 2016', fontsize=18);\n",
    "plt.xlabel('Match Result', fontsize=16);\n",
    "plt.ylabel('Total number of games', fontsize=16);\n",
    "pd.DataFrame(df['result'].groupby(df['result']).describe())"
   ]
  },
  {
   "cell_type": "markdown",
   "metadata": {},
   "source": [
    "As observed from the above histogram, the home team has a higher probability of winning with 11917 games won during a home game vs. 7466 games won while playing away this can be quantified into percentages as below."
   ]
  },
  {
   "cell_type": "code",
   "execution_count": 262,
   "metadata": {},
   "outputs": [
    {
     "data": {
      "text/plain": [
       "result\n",
       "Away    28.738597\n",
       "Home    45.871666\n",
       "Tie     25.389738\n",
       "dtype: float64"
      ]
     },
     "execution_count": 262,
     "metadata": {},
     "output_type": "execute_result"
    }
   ],
   "source": [
    "(df.groupby(['result']).size()/df.groupby(['result']).size().sum())*100"
   ]
  },
  {
   "cell_type": "code",
   "execution_count": 263,
   "metadata": {},
   "outputs": [
    {
     "data": {
      "image/png": "[encoded data removed]",
      "text/plain": [
       "<Figure size 432x288 with 1 Axes>"
      ]
     },
     "metadata": {},
     "output_type": "display_data"
    }
   ],
   "source": [
    "#Plotting the results in a Pie Chart for better representation\n",
    "\n",
    "#Define Data\n",
    "data = list((df.groupby(['result']).size()/df.groupby(['result']).size().sum())*100)\n",
    "labels = ['Away Team Win', 'Home Team Win', 'Tied']\n",
    "#define Seaborn color palette to use\n",
    "colors = sns.color_palette('pastel')[0:5]\n",
    "\n",
    "#create pie chart\n",
    "\n",
    "plt.pie(data, labels = labels, colors = colors, autopct='%.0f%%')\n",
    "plt.title('Pct Win/Tie for Home/Away for the period 2008 to 2016')\n",
    "plt.show()"
   ]
  },
  {
   "cell_type": "markdown",
   "metadata": {},
   "source": [
    "From the above chart it is observed that 75% of the played games end with a win"
   ]
  },
  {
   "cell_type": "markdown",
   "metadata": {},
   "source": [
    "### Research Question 2  - Which league had the most goals and during which season?"
   ]
  },
  {
   "cell_type": "code",
   "execution_count": 264,
   "metadata": {},
   "outputs": [],
   "source": [
    "#In order to carry out this analysis, it was easier to use pandas sql\n",
    "\n",
    "mysql = lambda q: sqldf(q, globals())\n"
   ]
  },
  {
   "cell_type": "code",
   "execution_count": 265,
   "metadata": {
    "scrolled": true
   },
   "outputs": [
    {
     "data": {
      "text/html": [
       "<div>\n",
       "<style scoped>\n",
       "    .dataframe tbody tr th:only-of-type {\n",
       "        vertical-align: middle;\n",
       "    }\n",
       "\n",
       "    .dataframe tbody tr th {\n",
       "        vertical-align: top;\n",
       "    }\n",
       "\n",
       "    .dataframe thead th {\n",
       "        text-align: right;\n",
       "    }\n",
       "</style>\n",
       "<table border=\"1\" class=\"dataframe\">\n",
       "  <thead>\n",
       "    <tr style=\"text-align: right;\">\n",
       "      <th></th>\n",
       "      <th>season</th>\n",
       "      <th>season_goals</th>\n",
       "      <th>name</th>\n",
       "    </tr>\n",
       "  </thead>\n",
       "  <tbody>\n",
       "    <tr>\n",
       "      <th>9</th>\n",
       "      <td>2008/2009</td>\n",
       "      <td>1101</td>\n",
       "      <td>Spain LIGA BBVA</td>\n",
       "    </tr>\n",
       "  </tbody>\n",
       "</table>\n",
       "</div>"
      ],
      "text/plain": [
       "      season  season_goals             name\n",
       "9  2008/2009          1101  Spain LIGA BBVA"
      ]
     },
     "execution_count": 265,
     "metadata": {},
     "output_type": "execute_result"
    }
   ],
   "source": [
    "df_season = mysql(\"Select df_match.season,sum(df_match.home_team_goal + df_match.away_team_goal) as season_goals,\\\n",
    "                    name\\\n",
    "                    From df_match, df_league\\\n",
    "                    where df_match.league_id = df_league.id\\\n",
    "                    group by season,league_id;\")\n",
    "\n",
    "#Checking for the league with most goals\n",
    "\n",
    "df_season.loc[df_season['season_goals'] == df_season['season_goals'].max()]"
   ]
  },
  {
   "cell_type": "markdown",
   "metadata": {},
   "source": [
    "The Spanish League during the 2008/2009 season had the most goals scored across all the seasons available within the data set"
   ]
  },
  {
   "cell_type": "code",
   "execution_count": 266,
   "metadata": {},
   "outputs": [
    {
     "data": {
      "text/html": [
       "<div>\n",
       "<style scoped>\n",
       "    .dataframe tbody tr th:only-of-type {\n",
       "        vertical-align: middle;\n",
       "    }\n",
       "\n",
       "    .dataframe tbody tr th {\n",
       "        vertical-align: top;\n",
       "    }\n",
       "\n",
       "    .dataframe thead th {\n",
       "        text-align: right;\n",
       "    }\n",
       "</style>\n",
       "<table border=\"1\" class=\"dataframe\">\n",
       "  <thead>\n",
       "    <tr style=\"text-align: right;\">\n",
       "      <th></th>\n",
       "      <th>season_goals</th>\n",
       "    </tr>\n",
       "  </thead>\n",
       "  <tbody>\n",
       "    <tr>\n",
       "      <th>count</th>\n",
       "      <td>88.000000</td>\n",
       "    </tr>\n",
       "    <tr>\n",
       "      <th>mean</th>\n",
       "      <td>798.715909</td>\n",
       "    </tr>\n",
       "    <tr>\n",
       "      <th>std</th>\n",
       "      <td>213.757245</td>\n",
       "    </tr>\n",
       "    <tr>\n",
       "      <th>min</th>\n",
       "      <td>30.000000</td>\n",
       "    </tr>\n",
       "    <tr>\n",
       "      <th>25%</th>\n",
       "      <td>600.500000</td>\n",
       "    </tr>\n",
       "    <tr>\n",
       "      <th>50%</th>\n",
       "      <td>868.000000</td>\n",
       "    </tr>\n",
       "    <tr>\n",
       "      <th>75%</th>\n",
       "      <td>978.250000</td>\n",
       "    </tr>\n",
       "    <tr>\n",
       "      <th>max</th>\n",
       "      <td>1101.000000</td>\n",
       "    </tr>\n",
       "  </tbody>\n",
       "</table>\n",
       "</div>"
      ],
      "text/plain": [
       "       season_goals\n",
       "count     88.000000\n",
       "mean     798.715909\n",
       "std      213.757245\n",
       "min       30.000000\n",
       "25%      600.500000\n",
       "50%      868.000000\n",
       "75%      978.250000\n",
       "max     1101.000000"
      ]
     },
     "execution_count": 266,
     "metadata": {},
     "output_type": "execute_result"
    }
   ],
   "source": [
    "#Check to confirm findings\n",
    "\n",
    "df_season.describe()"
   ]
  },
  {
   "cell_type": "code",
   "execution_count": 267,
   "metadata": {},
   "outputs": [
    {
     "data": {
      "text/html": [
       "<div>\n",
       "<style scoped>\n",
       "    .dataframe tbody tr th:only-of-type {\n",
       "        vertical-align: middle;\n",
       "    }\n",
       "\n",
       "    .dataframe tbody tr th {\n",
       "        vertical-align: top;\n",
       "    }\n",
       "\n",
       "    .dataframe thead th {\n",
       "        text-align: right;\n",
       "    }\n",
       "</style>\n",
       "<table border=\"1\" class=\"dataframe\">\n",
       "  <thead>\n",
       "    <tr style=\"text-align: right;\">\n",
       "      <th></th>\n",
       "      <th>count</th>\n",
       "      <th>mean</th>\n",
       "      <th>std</th>\n",
       "      <th>min</th>\n",
       "      <th>25%</th>\n",
       "      <th>50%</th>\n",
       "      <th>75%</th>\n",
       "      <th>max</th>\n",
       "    </tr>\n",
       "    <tr>\n",
       "      <th>name</th>\n",
       "      <th></th>\n",
       "      <th></th>\n",
       "      <th></th>\n",
       "      <th></th>\n",
       "      <th></th>\n",
       "      <th></th>\n",
       "      <th></th>\n",
       "      <th></th>\n",
       "    </tr>\n",
       "  </thead>\n",
       "  <tbody>\n",
       "    <tr>\n",
       "      <th>Belgium Jupiler League</th>\n",
       "      <td>8.0</td>\n",
       "      <td>605.125</td>\n",
       "      <td>246.262019</td>\n",
       "      <td>30.0</td>\n",
       "      <td>617.50</td>\n",
       "      <td>679.5</td>\n",
       "      <td>696.25</td>\n",
       "      <td>855.0</td>\n",
       "    </tr>\n",
       "    <tr>\n",
       "      <th>England Premier League</th>\n",
       "      <td>8.0</td>\n",
       "      <td>1030.000</td>\n",
       "      <td>46.708824</td>\n",
       "      <td>942.0</td>\n",
       "      <td>1013.25</td>\n",
       "      <td>1052.5</td>\n",
       "      <td>1063.00</td>\n",
       "      <td>1066.0</td>\n",
       "    </tr>\n",
       "    <tr>\n",
       "      <th>France Ligue 1</th>\n",
       "      <td>8.0</td>\n",
       "      <td>928.375</td>\n",
       "      <td>38.176049</td>\n",
       "      <td>858.0</td>\n",
       "      <td>909.50</td>\n",
       "      <td>940.0</td>\n",
       "      <td>957.00</td>\n",
       "      <td>967.0</td>\n",
       "    </tr>\n",
       "    <tr>\n",
       "      <th>Germany 1. Bundesliga</th>\n",
       "      <td>8.0</td>\n",
       "      <td>887.875</td>\n",
       "      <td>36.984311</td>\n",
       "      <td>843.0</td>\n",
       "      <td>866.00</td>\n",
       "      <td>884.5</td>\n",
       "      <td>895.00</td>\n",
       "      <td>967.0</td>\n",
       "    </tr>\n",
       "    <tr>\n",
       "      <th>Italy Serie A</th>\n",
       "      <td>8.0</td>\n",
       "      <td>986.875</td>\n",
       "      <td>34.803274</td>\n",
       "      <td>925.0</td>\n",
       "      <td>973.00</td>\n",
       "      <td>990.0</td>\n",
       "      <td>1006.75</td>\n",
       "      <td>1035.0</td>\n",
       "    </tr>\n",
       "    <tr>\n",
       "      <th>Netherlands Eredivisie</th>\n",
       "      <td>8.0</td>\n",
       "      <td>942.750</td>\n",
       "      <td>46.918623</td>\n",
       "      <td>870.0</td>\n",
       "      <td>907.00</td>\n",
       "      <td>953.0</td>\n",
       "      <td>980.25</td>\n",
       "      <td>997.0</td>\n",
       "    </tr>\n",
       "    <tr>\n",
       "      <th>Poland Ekstraklasa</th>\n",
       "      <td>8.0</td>\n",
       "      <td>582.000</td>\n",
       "      <td>48.975212</td>\n",
       "      <td>524.0</td>\n",
       "      <td>530.75</td>\n",
       "      <td>588.0</td>\n",
       "      <td>629.50</td>\n",
       "      <td>635.0</td>\n",
       "    </tr>\n",
       "    <tr>\n",
       "      <th>Portugal Liga ZON Sagres</th>\n",
       "      <td>8.0</td>\n",
       "      <td>650.125</td>\n",
       "      <td>99.280897</td>\n",
       "      <td>552.0</td>\n",
       "      <td>580.25</td>\n",
       "      <td>617.5</td>\n",
       "      <td>691.00</td>\n",
       "      <td>831.0</td>\n",
       "    </tr>\n",
       "    <tr>\n",
       "      <th>Scotland Premier League</th>\n",
       "      <td>8.0</td>\n",
       "      <td>600.500</td>\n",
       "      <td>31.753515</td>\n",
       "      <td>548.0</td>\n",
       "      <td>584.75</td>\n",
       "      <td>594.0</td>\n",
       "      <td>623.75</td>\n",
       "      <td>650.0</td>\n",
       "    </tr>\n",
       "    <tr>\n",
       "      <th>Spain LIGA BBVA</th>\n",
       "      <td>8.0</td>\n",
       "      <td>1051.500</td>\n",
       "      <td>30.340920</td>\n",
       "      <td>1009.0</td>\n",
       "      <td>1039.25</td>\n",
       "      <td>1044.0</td>\n",
       "      <td>1060.25</td>\n",
       "      <td>1101.0</td>\n",
       "    </tr>\n",
       "    <tr>\n",
       "      <th>Switzerland Super League</th>\n",
       "      <td>8.0</td>\n",
       "      <td>520.750</td>\n",
       "      <td>55.342440</td>\n",
       "      <td>425.0</td>\n",
       "      <td>503.25</td>\n",
       "      <td>528.5</td>\n",
       "      <td>546.50</td>\n",
       "      <td>599.0</td>\n",
       "    </tr>\n",
       "  </tbody>\n",
       "</table>\n",
       "</div>"
      ],
      "text/plain": [
       "                          count      mean         std     min      25%  \\\n",
       "name                                                                     \n",
       "Belgium Jupiler League      8.0   605.125  246.262019    30.0   617.50   \n",
       "England Premier League      8.0  1030.000   46.708824   942.0  1013.25   \n",
       "France Ligue 1              8.0   928.375   38.176049   858.0   909.50   \n",
       "Germany 1. Bundesliga       8.0   887.875   36.984311   843.0   866.00   \n",
       "Italy Serie A               8.0   986.875   34.803274   925.0   973.00   \n",
       "Netherlands Eredivisie      8.0   942.750   46.918623   870.0   907.00   \n",
       "Poland Ekstraklasa          8.0   582.000   48.975212   524.0   530.75   \n",
       "Portugal Liga ZON Sagres    8.0   650.125   99.280897   552.0   580.25   \n",
       "Scotland Premier League     8.0   600.500   31.753515   548.0   584.75   \n",
       "Spain LIGA BBVA             8.0  1051.500   30.340920  1009.0  1039.25   \n",
       "Switzerland Super League    8.0   520.750   55.342440   425.0   503.25   \n",
       "\n",
       "                             50%      75%     max  \n",
       "name                                               \n",
       "Belgium Jupiler League     679.5   696.25   855.0  \n",
       "England Premier League    1052.5  1063.00  1066.0  \n",
       "France Ligue 1             940.0   957.00   967.0  \n",
       "Germany 1. Bundesliga      884.5   895.00   967.0  \n",
       "Italy Serie A              990.0  1006.75  1035.0  \n",
       "Netherlands Eredivisie     953.0   980.25   997.0  \n",
       "Poland Ekstraklasa         588.0   629.50   635.0  \n",
       "Portugal Liga ZON Sagres   617.5   691.00   831.0  \n",
       "Scotland Premier League    594.0   623.75   650.0  \n",
       "Spain LIGA BBVA           1044.0  1060.25  1101.0  \n",
       "Switzerland Super League   528.5   546.50   599.0  "
      ]
     },
     "execution_count": 267,
     "metadata": {},
     "output_type": "execute_result"
    },
    {
     "data": {
      "image/png": "[encoded data removed]",
      "text/plain": [
       "<Figure size 864x864 with 1 Axes>"
      ]
     },
     "metadata": {
      "needs_background": "light"
     },
     "output_type": "display_data"
    }
   ],
   "source": [
    "#Visualize complete data set seasonal performance by league\n",
    "\n",
    "df_season.boxplot(column=['season_goals'],by=['name'],figsize=(12,12), rot=90);\n",
    "plt.suptitle(\"Goals by Season by League for the period 2008 to 2016\");\n",
    "plt.xlabel(\"League\");\n",
    "plt.ylabel(\"Season Goals\");\n",
    "\n",
    "pd.DataFrame(df_season['season_goals'].groupby(df_season['name']).describe())"
   ]
  },
  {
   "cell_type": "markdown",
   "metadata": {},
   "source": [
    "The above confirms that the Spanish League has consistently had better performance during the study period"
   ]
  },
  {
   "cell_type": "markdown",
   "metadata": {},
   "source": [
    "### Research Question 3  - What are the attributes of the above average teams and list them ?"
   ]
  },
  {
   "cell_type": "code",
   "execution_count": 268,
   "metadata": {},
   "outputs": [
    {
     "data": {
      "text/html": [
       "<div>\n",
       "<style scoped>\n",
       "    .dataframe tbody tr th:only-of-type {\n",
       "        vertical-align: middle;\n",
       "    }\n",
       "\n",
       "    .dataframe tbody tr th {\n",
       "        vertical-align: top;\n",
       "    }\n",
       "\n",
       "    .dataframe thead th {\n",
       "        text-align: right;\n",
       "    }\n",
       "</style>\n",
       "<table border=\"1\" class=\"dataframe\">\n",
       "  <thead>\n",
       "    <tr style=\"text-align: right;\">\n",
       "      <th></th>\n",
       "      <th>id</th>\n",
       "      <th>team_fifa_api_id</th>\n",
       "      <th>team_api_id</th>\n",
       "      <th>date</th>\n",
       "      <th>buildUpPlaySpeed</th>\n",
       "      <th>buildUpPlaySpeedClass</th>\n",
       "      <th>buildUpPlayDribblingClass</th>\n",
       "      <th>buildUpPlayPassing</th>\n",
       "      <th>buildUpPlayPassingClass</th>\n",
       "      <th>buildUpPlayPositioningClass</th>\n",
       "      <th>...</th>\n",
       "      <th>chanceCreationShooting</th>\n",
       "      <th>chanceCreationShootingClass</th>\n",
       "      <th>chanceCreationPositioningClass</th>\n",
       "      <th>defencePressure</th>\n",
       "      <th>defencePressureClass</th>\n",
       "      <th>defenceAggression</th>\n",
       "      <th>defenceAggressionClass</th>\n",
       "      <th>defenceTeamWidth</th>\n",
       "      <th>defenceTeamWidthClass</th>\n",
       "      <th>defenceDefenderLineClass</th>\n",
       "    </tr>\n",
       "  </thead>\n",
       "  <tbody>\n",
       "    <tr>\n",
       "      <th>0</th>\n",
       "      <td>1</td>\n",
       "      <td>434</td>\n",
       "      <td>9930</td>\n",
       "      <td>2010-02-22 00:00:00</td>\n",
       "      <td>60</td>\n",
       "      <td>Balanced</td>\n",
       "      <td>Little</td>\n",
       "      <td>50</td>\n",
       "      <td>Mixed</td>\n",
       "      <td>Organised</td>\n",
       "      <td>...</td>\n",
       "      <td>55</td>\n",
       "      <td>Normal</td>\n",
       "      <td>Organised</td>\n",
       "      <td>50</td>\n",
       "      <td>Medium</td>\n",
       "      <td>55</td>\n",
       "      <td>Press</td>\n",
       "      <td>45</td>\n",
       "      <td>Normal</td>\n",
       "      <td>Cover</td>\n",
       "    </tr>\n",
       "    <tr>\n",
       "      <th>1</th>\n",
       "      <td>2</td>\n",
       "      <td>434</td>\n",
       "      <td>9930</td>\n",
       "      <td>2014-09-19 00:00:00</td>\n",
       "      <td>52</td>\n",
       "      <td>Balanced</td>\n",
       "      <td>Normal</td>\n",
       "      <td>56</td>\n",
       "      <td>Mixed</td>\n",
       "      <td>Organised</td>\n",
       "      <td>...</td>\n",
       "      <td>64</td>\n",
       "      <td>Normal</td>\n",
       "      <td>Organised</td>\n",
       "      <td>47</td>\n",
       "      <td>Medium</td>\n",
       "      <td>44</td>\n",
       "      <td>Press</td>\n",
       "      <td>54</td>\n",
       "      <td>Normal</td>\n",
       "      <td>Cover</td>\n",
       "    </tr>\n",
       "    <tr>\n",
       "      <th>2</th>\n",
       "      <td>3</td>\n",
       "      <td>434</td>\n",
       "      <td>9930</td>\n",
       "      <td>2015-09-10 00:00:00</td>\n",
       "      <td>47</td>\n",
       "      <td>Balanced</td>\n",
       "      <td>Normal</td>\n",
       "      <td>54</td>\n",
       "      <td>Mixed</td>\n",
       "      <td>Organised</td>\n",
       "      <td>...</td>\n",
       "      <td>64</td>\n",
       "      <td>Normal</td>\n",
       "      <td>Organised</td>\n",
       "      <td>47</td>\n",
       "      <td>Medium</td>\n",
       "      <td>44</td>\n",
       "      <td>Press</td>\n",
       "      <td>54</td>\n",
       "      <td>Normal</td>\n",
       "      <td>Cover</td>\n",
       "    </tr>\n",
       "    <tr>\n",
       "      <th>3</th>\n",
       "      <td>4</td>\n",
       "      <td>77</td>\n",
       "      <td>8485</td>\n",
       "      <td>2010-02-22 00:00:00</td>\n",
       "      <td>70</td>\n",
       "      <td>Fast</td>\n",
       "      <td>Little</td>\n",
       "      <td>70</td>\n",
       "      <td>Long</td>\n",
       "      <td>Organised</td>\n",
       "      <td>...</td>\n",
       "      <td>70</td>\n",
       "      <td>Lots</td>\n",
       "      <td>Organised</td>\n",
       "      <td>60</td>\n",
       "      <td>Medium</td>\n",
       "      <td>70</td>\n",
       "      <td>Double</td>\n",
       "      <td>70</td>\n",
       "      <td>Wide</td>\n",
       "      <td>Cover</td>\n",
       "    </tr>\n",
       "    <tr>\n",
       "      <th>4</th>\n",
       "      <td>5</td>\n",
       "      <td>77</td>\n",
       "      <td>8485</td>\n",
       "      <td>2011-02-22 00:00:00</td>\n",
       "      <td>47</td>\n",
       "      <td>Balanced</td>\n",
       "      <td>Little</td>\n",
       "      <td>52</td>\n",
       "      <td>Mixed</td>\n",
       "      <td>Organised</td>\n",
       "      <td>...</td>\n",
       "      <td>52</td>\n",
       "      <td>Normal</td>\n",
       "      <td>Organised</td>\n",
       "      <td>47</td>\n",
       "      <td>Medium</td>\n",
       "      <td>47</td>\n",
       "      <td>Press</td>\n",
       "      <td>52</td>\n",
       "      <td>Normal</td>\n",
       "      <td>Cover</td>\n",
       "    </tr>\n",
       "  </tbody>\n",
       "</table>\n",
       "<p>5 rows × 24 columns</p>\n",
       "</div>"
      ],
      "text/plain": [
       "   id  team_fifa_api_id  team_api_id                 date  buildUpPlaySpeed  \\\n",
       "0   1               434         9930  2010-02-22 00:00:00                60   \n",
       "1   2               434         9930  2014-09-19 00:00:00                52   \n",
       "2   3               434         9930  2015-09-10 00:00:00                47   \n",
       "3   4                77         8485  2010-02-22 00:00:00                70   \n",
       "4   5                77         8485  2011-02-22 00:00:00                47   \n",
       "\n",
       "  buildUpPlaySpeedClass buildUpPlayDribblingClass  buildUpPlayPassing  \\\n",
       "0              Balanced                    Little                  50   \n",
       "1              Balanced                    Normal                  56   \n",
       "2              Balanced                    Normal                  54   \n",
       "3                  Fast                    Little                  70   \n",
       "4              Balanced                    Little                  52   \n",
       "\n",
       "  buildUpPlayPassingClass buildUpPlayPositioningClass  ...  \\\n",
       "0                   Mixed                   Organised  ...   \n",
       "1                   Mixed                   Organised  ...   \n",
       "2                   Mixed                   Organised  ...   \n",
       "3                    Long                   Organised  ...   \n",
       "4                   Mixed                   Organised  ...   \n",
       "\n",
       "   chanceCreationShooting chanceCreationShootingClass  \\\n",
       "0                      55                      Normal   \n",
       "1                      64                      Normal   \n",
       "2                      64                      Normal   \n",
       "3                      70                        Lots   \n",
       "4                      52                      Normal   \n",
       "\n",
       "   chanceCreationPositioningClass defencePressure  defencePressureClass  \\\n",
       "0                       Organised              50                Medium   \n",
       "1                       Organised              47                Medium   \n",
       "2                       Organised              47                Medium   \n",
       "3                       Organised              60                Medium   \n",
       "4                       Organised              47                Medium   \n",
       "\n",
       "  defenceAggression defenceAggressionClass  defenceTeamWidth  \\\n",
       "0                55                  Press                45   \n",
       "1                44                  Press                54   \n",
       "2                44                  Press                54   \n",
       "3                70                 Double                70   \n",
       "4                47                  Press                52   \n",
       "\n",
       "  defenceTeamWidthClass  defenceDefenderLineClass  \n",
       "0                Normal                     Cover  \n",
       "1                Normal                     Cover  \n",
       "2                Normal                     Cover  \n",
       "3                  Wide                     Cover  \n",
       "4                Normal                     Cover  \n",
       "\n",
       "[5 rows x 24 columns]"
      ]
     },
     "execution_count": 268,
     "metadata": {},
     "output_type": "execute_result"
    }
   ],
   "source": [
    "# Explore table to identify attributes of interest\n",
    "\n",
    "df_team_att.describe()\n",
    "df_team_att.head()"
   ]
  },
  {
   "cell_type": "code",
   "execution_count": 269,
   "metadata": {},
   "outputs": [
    {
     "data": {
      "text/plain": [
       "((11917, 2), (7466, 2))"
      ]
     },
     "execution_count": 269,
     "metadata": {},
     "output_type": "execute_result"
    }
   ],
   "source": [
    "#Identify Winning Teams\n",
    "\n",
    "df_home_win = mysql('Select home_team_api_id as team, home_team_goal as goals from df_match Where result=\"Home\";')\n",
    "df_away_win = mysql('Select away_team_api_id as team, away_team_goal as goals from df_match Where result=\"Away\";')\n",
    "df_home_win.shape, df_away_win.shape"
   ]
  },
  {
   "cell_type": "code",
   "execution_count": 270,
   "metadata": {},
   "outputs": [
    {
     "data": {
      "text/plain": [
       "(19383, 2)"
      ]
     },
     "execution_count": 270,
     "metadata": {},
     "output_type": "execute_result"
    }
   ],
   "source": [
    "df_win = df_home_win.append(df_away_win)\n",
    "df_win.shape"
   ]
  },
  {
   "cell_type": "code",
   "execution_count": 271,
   "metadata": {},
   "outputs": [
    {
     "data": {
      "text/plain": [
       "(299, 4)"
      ]
     },
     "execution_count": 271,
     "metadata": {},
     "output_type": "execute_result"
    }
   ],
   "source": [
    "#Aggregate Match Data\n",
    "\n",
    "df_win = mysql('Select team as team_api_id, count(team) as match_count, sum(goals) as total_goals from df_win group by team;')\n",
    "df_win['goals_per_game'] = df_win['total_goals'] / df_win['match_count']\n",
    "df_win.shape"
   ]
  },
  {
   "cell_type": "code",
   "execution_count": 272,
   "metadata": {},
   "outputs": [
    {
     "data": {
      "text/html": [
       "<div>\n",
       "<style scoped>\n",
       "    .dataframe tbody tr th:only-of-type {\n",
       "        vertical-align: middle;\n",
       "    }\n",
       "\n",
       "    .dataframe tbody tr th {\n",
       "        vertical-align: top;\n",
       "    }\n",
       "\n",
       "    .dataframe thead th {\n",
       "        text-align: right;\n",
       "    }\n",
       "</style>\n",
       "<table border=\"1\" class=\"dataframe\">\n",
       "  <thead>\n",
       "    <tr style=\"text-align: right;\">\n",
       "      <th></th>\n",
       "      <th>team_api_id</th>\n",
       "      <th>match_count</th>\n",
       "      <th>total_goals</th>\n",
       "      <th>goals_per_game</th>\n",
       "    </tr>\n",
       "  </thead>\n",
       "  <tbody>\n",
       "    <tr>\n",
       "      <th>0</th>\n",
       "      <td>1601</td>\n",
       "      <td>92</td>\n",
       "      <td>193</td>\n",
       "      <td>2.097826</td>\n",
       "    </tr>\n",
       "    <tr>\n",
       "      <th>1</th>\n",
       "      <td>1773</td>\n",
       "      <td>22</td>\n",
       "      <td>61</td>\n",
       "      <td>2.772727</td>\n",
       "    </tr>\n",
       "    <tr>\n",
       "      <th>2</th>\n",
       "      <td>1957</td>\n",
       "      <td>87</td>\n",
       "      <td>186</td>\n",
       "      <td>2.137931</td>\n",
       "    </tr>\n",
       "    <tr>\n",
       "      <th>3</th>\n",
       "      <td>2033</td>\n",
       "      <td>32</td>\n",
       "      <td>55</td>\n",
       "      <td>1.718750</td>\n",
       "    </tr>\n",
       "    <tr>\n",
       "      <th>4</th>\n",
       "      <td>2182</td>\n",
       "      <td>124</td>\n",
       "      <td>298</td>\n",
       "      <td>2.403226</td>\n",
       "    </tr>\n",
       "  </tbody>\n",
       "</table>\n",
       "</div>"
      ],
      "text/plain": [
       "   team_api_id  match_count  total_goals  goals_per_game\n",
       "0         1601           92          193        2.097826\n",
       "1         1773           22           61        2.772727\n",
       "2         1957           87          186        2.137931\n",
       "3         2033           32           55        1.718750\n",
       "4         2182          124          298        2.403226"
      ]
     },
     "execution_count": 272,
     "metadata": {},
     "output_type": "execute_result"
    }
   ],
   "source": [
    "df_win.head()"
   ]
  },
  {
   "cell_type": "code",
   "execution_count": 273,
   "metadata": {},
   "outputs": [
    {
     "data": {
      "text/html": [
       "<div>\n",
       "<style scoped>\n",
       "    .dataframe tbody tr th:only-of-type {\n",
       "        vertical-align: middle;\n",
       "    }\n",
       "\n",
       "    .dataframe tbody tr th {\n",
       "        vertical-align: top;\n",
       "    }\n",
       "\n",
       "    .dataframe thead th {\n",
       "        text-align: right;\n",
       "    }\n",
       "</style>\n",
       "<table border=\"1\" class=\"dataframe\">\n",
       "  <thead>\n",
       "    <tr style=\"text-align: right;\">\n",
       "      <th></th>\n",
       "      <th>team_api_id</th>\n",
       "      <th>match_count</th>\n",
       "      <th>total_goals</th>\n",
       "      <th>goals_per_game</th>\n",
       "    </tr>\n",
       "  </thead>\n",
       "  <tbody>\n",
       "    <tr>\n",
       "      <th>count</th>\n",
       "      <td>299.000000</td>\n",
       "      <td>299.000000</td>\n",
       "      <td>299.000000</td>\n",
       "      <td>299.000000</td>\n",
       "    </tr>\n",
       "    <tr>\n",
       "      <th>mean</th>\n",
       "      <td>12340.521739</td>\n",
       "      <td>64.826087</td>\n",
       "      <td>154.856187</td>\n",
       "      <td>2.234545</td>\n",
       "    </tr>\n",
       "    <tr>\n",
       "      <th>std</th>\n",
       "      <td>25940.411135</td>\n",
       "      <td>51.802767</td>\n",
       "      <td>141.560536</td>\n",
       "      <td>0.317048</td>\n",
       "    </tr>\n",
       "    <tr>\n",
       "      <th>min</th>\n",
       "      <td>1601.000000</td>\n",
       "      <td>3.000000</td>\n",
       "      <td>4.000000</td>\n",
       "      <td>1.333333</td>\n",
       "    </tr>\n",
       "    <tr>\n",
       "      <th>25%</th>\n",
       "      <td>8349.000000</td>\n",
       "      <td>20.000000</td>\n",
       "      <td>39.000000</td>\n",
       "      <td>2.037169</td>\n",
       "    </tr>\n",
       "    <tr>\n",
       "      <th>50%</th>\n",
       "      <td>8655.000000</td>\n",
       "      <td>56.000000</td>\n",
       "      <td>118.000000</td>\n",
       "      <td>2.210526</td>\n",
       "    </tr>\n",
       "    <tr>\n",
       "      <th>75%</th>\n",
       "      <td>9886.500000</td>\n",
       "      <td>97.500000</td>\n",
       "      <td>227.500000</td>\n",
       "      <td>2.411011</td>\n",
       "    </tr>\n",
       "    <tr>\n",
       "      <th>max</th>\n",
       "      <td>274581.000000</td>\n",
       "      <td>234.000000</td>\n",
       "      <td>779.000000</td>\n",
       "      <td>3.403509</td>\n",
       "    </tr>\n",
       "  </tbody>\n",
       "</table>\n",
       "</div>"
      ],
      "text/plain": [
       "         team_api_id  match_count  total_goals  goals_per_game\n",
       "count     299.000000   299.000000   299.000000      299.000000\n",
       "mean    12340.521739    64.826087   154.856187        2.234545\n",
       "std     25940.411135    51.802767   141.560536        0.317048\n",
       "min      1601.000000     3.000000     4.000000        1.333333\n",
       "25%      8349.000000    20.000000    39.000000        2.037169\n",
       "50%      8655.000000    56.000000   118.000000        2.210526\n",
       "75%      9886.500000    97.500000   227.500000        2.411011\n",
       "max    274581.000000   234.000000   779.000000        3.403509"
      ]
     },
     "execution_count": 273,
     "metadata": {},
     "output_type": "execute_result"
    }
   ],
   "source": [
    "df_win.describe()"
   ]
  },
  {
   "cell_type": "code",
   "execution_count": 274,
   "metadata": {},
   "outputs": [],
   "source": [
    "df_win_test = df_win.copy() #maintain a copy to assess impact of dropped column"
   ]
  },
  {
   "cell_type": "code",
   "execution_count": 275,
   "metadata": {},
   "outputs": [
    {
     "data": {
      "text/plain": [
       "((288, 9), (1, 8))"
      ]
     },
     "execution_count": 275,
     "metadata": {},
     "output_type": "execute_result"
    }
   ],
   "source": [
    "#Aggregate Team Attributes and use mean value of statistics\n",
    "\n",
    "df_team_stat = mysql('Select team_api_id,AVG(buildUpPlaySpeed),AVG(buildUpPlayPassing),\\\n",
    "                        AVG(chanceCreationPassing),AVG(chanceCreationCrossing),AVG(chanceCreationShooting),\\\n",
    "                        AVG(defencePressure),AVG(defenceAggression),AVG(defenceTeamWidth)\\\n",
    "                        from df_team_att\\\n",
    "                        group by team_api_id;')\n",
    "\n",
    "#Calculate the mean statistics for the full data set\n",
    "\n",
    "df_mean_stat = mysql('Select AVG(buildUpPlaySpeed),AVG(buildUpPlayPassing),\\\n",
    "                        AVG(chanceCreationPassing),AVG(chanceCreationCrossing),AVG(chanceCreationShooting),\\\n",
    "                        AVG(defencePressure),AVG(defenceAggression),AVG(defenceTeamWidth)\\\n",
    "                        from df_team_att;')\n",
    "df_team_stat.shape, df_mean_stat.shape"
   ]
  },
  {
   "cell_type": "code",
   "execution_count": 276,
   "metadata": {},
   "outputs": [
    {
     "data": {
      "image/png": "[encoded data removed]",
      "text/plain": [
       "<Figure size 720x720 with 9 Axes>"
      ]
     },
     "metadata": {
      "needs_background": "light"
     },
     "output_type": "display_data"
    }
   ],
   "source": [
    "#Visualize the mean team statistics\n",
    "\n",
    "df_team_stat.hist(figsize=(10,10));"
   ]
  },
  {
   "cell_type": "markdown",
   "metadata": {},
   "source": [
    "The team attributes seem to have a normal distribution"
   ]
  },
  {
   "cell_type": "code",
   "execution_count": 277,
   "metadata": {},
   "outputs": [
    {
     "data": {
      "text/html": [
       "<div>\n",
       "<style scoped>\n",
       "    .dataframe tbody tr th:only-of-type {\n",
       "        vertical-align: middle;\n",
       "    }\n",
       "\n",
       "    .dataframe tbody tr th {\n",
       "        vertical-align: top;\n",
       "    }\n",
       "\n",
       "    .dataframe thead th {\n",
       "        text-align: right;\n",
       "    }\n",
       "</style>\n",
       "<table border=\"1\" class=\"dataframe\">\n",
       "  <thead>\n",
       "    <tr style=\"text-align: right;\">\n",
       "      <th></th>\n",
       "      <th>id</th>\n",
       "      <th>team_api_id</th>\n",
       "      <th>team_long_name</th>\n",
       "      <th>team_short_name</th>\n",
       "    </tr>\n",
       "  </thead>\n",
       "  <tbody>\n",
       "    <tr>\n",
       "      <th>0</th>\n",
       "      <td>1</td>\n",
       "      <td>9987</td>\n",
       "      <td>KRC Genk</td>\n",
       "      <td>GEN</td>\n",
       "    </tr>\n",
       "    <tr>\n",
       "      <th>1</th>\n",
       "      <td>2</td>\n",
       "      <td>9993</td>\n",
       "      <td>Beerschot AC</td>\n",
       "      <td>BAC</td>\n",
       "    </tr>\n",
       "    <tr>\n",
       "      <th>2</th>\n",
       "      <td>3</td>\n",
       "      <td>10000</td>\n",
       "      <td>SV Zulte-Waregem</td>\n",
       "      <td>ZUL</td>\n",
       "    </tr>\n",
       "    <tr>\n",
       "      <th>3</th>\n",
       "      <td>4</td>\n",
       "      <td>9994</td>\n",
       "      <td>Sporting Lokeren</td>\n",
       "      <td>LOK</td>\n",
       "    </tr>\n",
       "    <tr>\n",
       "      <th>4</th>\n",
       "      <td>5</td>\n",
       "      <td>9984</td>\n",
       "      <td>KSV Cercle Brugge</td>\n",
       "      <td>CEB</td>\n",
       "    </tr>\n",
       "  </tbody>\n",
       "</table>\n",
       "</div>"
      ],
      "text/plain": [
       "   id  team_api_id     team_long_name team_short_name\n",
       "0   1         9987           KRC Genk             GEN\n",
       "1   2         9993       Beerschot AC             BAC\n",
       "2   3        10000   SV Zulte-Waregem             ZUL\n",
       "3   4         9994   Sporting Lokeren             LOK\n",
       "4   5         9984  KSV Cercle Brugge             CEB"
      ]
     },
     "execution_count": 277,
     "metadata": {},
     "output_type": "execute_result"
    }
   ],
   "source": [
    "df_team.head()"
   ]
  },
  {
   "cell_type": "code",
   "execution_count": 278,
   "metadata": {},
   "outputs": [
    {
     "data": {
      "text/html": [
       "<div>\n",
       "<style scoped>\n",
       "    .dataframe tbody tr th:only-of-type {\n",
       "        vertical-align: middle;\n",
       "    }\n",
       "\n",
       "    .dataframe tbody tr th {\n",
       "        vertical-align: top;\n",
       "    }\n",
       "\n",
       "    .dataframe thead th {\n",
       "        text-align: right;\n",
       "    }\n",
       "</style>\n",
       "<table border=\"1\" class=\"dataframe\">\n",
       "  <thead>\n",
       "    <tr style=\"text-align: right;\">\n",
       "      <th></th>\n",
       "      <th>team_api_id</th>\n",
       "      <th>match_count</th>\n",
       "      <th>total_goals</th>\n",
       "      <th>goals_per_game</th>\n",
       "      <th>AVG(buildUpPlaySpeed)</th>\n",
       "      <th>AVG(buildUpPlayPassing)</th>\n",
       "      <th>AVG(chanceCreationPassing)</th>\n",
       "      <th>AVG(chanceCreationCrossing)</th>\n",
       "      <th>AVG(chanceCreationShooting)</th>\n",
       "      <th>AVG(defencePressure)</th>\n",
       "      <th>AVG(defenceAggression)</th>\n",
       "      <th>AVG(defenceTeamWidth)</th>\n",
       "    </tr>\n",
       "  </thead>\n",
       "  <tbody>\n",
       "    <tr>\n",
       "      <th>0</th>\n",
       "      <td>1601</td>\n",
       "      <td>92</td>\n",
       "      <td>193</td>\n",
       "      <td>2.097826</td>\n",
       "      <td>47.333333</td>\n",
       "      <td>46.166667</td>\n",
       "      <td>55.500000</td>\n",
       "      <td>60.333333</td>\n",
       "      <td>53.5</td>\n",
       "      <td>47.166667</td>\n",
       "      <td>47.333333</td>\n",
       "      <td>49.333333</td>\n",
       "    </tr>\n",
       "    <tr>\n",
       "      <th>1</th>\n",
       "      <td>1773</td>\n",
       "      <td>22</td>\n",
       "      <td>61</td>\n",
       "      <td>2.772727</td>\n",
       "      <td>52.000000</td>\n",
       "      <td>50.000000</td>\n",
       "      <td>50.000000</td>\n",
       "      <td>53.000000</td>\n",
       "      <td>54.0</td>\n",
       "      <td>43.000000</td>\n",
       "      <td>44.000000</td>\n",
       "      <td>50.000000</td>\n",
       "    </tr>\n",
       "    <tr>\n",
       "      <th>2</th>\n",
       "      <td>1957</td>\n",
       "      <td>87</td>\n",
       "      <td>186</td>\n",
       "      <td>2.137931</td>\n",
       "      <td>47.166667</td>\n",
       "      <td>52.666667</td>\n",
       "      <td>50.833333</td>\n",
       "      <td>36.333333</td>\n",
       "      <td>67.0</td>\n",
       "      <td>49.333333</td>\n",
       "      <td>56.333333</td>\n",
       "      <td>53.666667</td>\n",
       "    </tr>\n",
       "    <tr>\n",
       "      <th>3</th>\n",
       "      <td>2033</td>\n",
       "      <td>32</td>\n",
       "      <td>55</td>\n",
       "      <td>1.718750</td>\n",
       "      <td>49.000000</td>\n",
       "      <td>48.400000</td>\n",
       "      <td>51.800000</td>\n",
       "      <td>44.200000</td>\n",
       "      <td>48.2</td>\n",
       "      <td>42.200000</td>\n",
       "      <td>33.800000</td>\n",
       "      <td>45.400000</td>\n",
       "    </tr>\n",
       "    <tr>\n",
       "      <th>4</th>\n",
       "      <td>2182</td>\n",
       "      <td>124</td>\n",
       "      <td>298</td>\n",
       "      <td>2.403226</td>\n",
       "      <td>60.333333</td>\n",
       "      <td>49.000000</td>\n",
       "      <td>56.666667</td>\n",
       "      <td>57.333333</td>\n",
       "      <td>68.0</td>\n",
       "      <td>51.666667</td>\n",
       "      <td>48.500000</td>\n",
       "      <td>54.500000</td>\n",
       "    </tr>\n",
       "  </tbody>\n",
       "</table>\n",
       "</div>"
      ],
      "text/plain": [
       "   team_api_id  match_count  total_goals  goals_per_game  \\\n",
       "0         1601           92          193        2.097826   \n",
       "1         1773           22           61        2.772727   \n",
       "2         1957           87          186        2.137931   \n",
       "3         2033           32           55        1.718750   \n",
       "4         2182          124          298        2.403226   \n",
       "\n",
       "   AVG(buildUpPlaySpeed)  AVG(buildUpPlayPassing)  AVG(chanceCreationPassing)  \\\n",
       "0              47.333333                46.166667                   55.500000   \n",
       "1              52.000000                50.000000                   50.000000   \n",
       "2              47.166667                52.666667                   50.833333   \n",
       "3              49.000000                48.400000                   51.800000   \n",
       "4              60.333333                49.000000                   56.666667   \n",
       "\n",
       "   AVG(chanceCreationCrossing)  AVG(chanceCreationShooting)  \\\n",
       "0                    60.333333                         53.5   \n",
       "1                    53.000000                         54.0   \n",
       "2                    36.333333                         67.0   \n",
       "3                    44.200000                         48.2   \n",
       "4                    57.333333                         68.0   \n",
       "\n",
       "   AVG(defencePressure)  AVG(defenceAggression)  AVG(defenceTeamWidth)  \n",
       "0             47.166667               47.333333              49.333333  \n",
       "1             43.000000               44.000000              50.000000  \n",
       "2             49.333333               56.333333              53.666667  \n",
       "3             42.200000               33.800000              45.400000  \n",
       "4             51.666667               48.500000              54.500000  "
      ]
     },
     "execution_count": 278,
     "metadata": {},
     "output_type": "execute_result"
    }
   ],
   "source": [
    "#Append team mean performance to match win data\n",
    "df_win = pd.merge(df_win ,df_team_stat ,on=['team_api_id','team_api_id'], how='left')\n",
    "df_win.head()"
   ]
  },
  {
   "cell_type": "code",
   "execution_count": 279,
   "metadata": {},
   "outputs": [],
   "source": [
    "#Append team name for easier understanding\n",
    "\n",
    "df_win = df_win.merge(df_team, on=['team_api_id','team_api_id'], how='left')\n",
    "\n",
    "#drop id, team_short name\n",
    "\n",
    "df_win.drop(['id', 'team_short_name'], axis=1, inplace=True)"
   ]
  },
  {
   "cell_type": "code",
   "execution_count": 280,
   "metadata": {},
   "outputs": [
    {
     "data": {
      "text/html": [
       "<div>\n",
       "<style scoped>\n",
       "    .dataframe tbody tr th:only-of-type {\n",
       "        vertical-align: middle;\n",
       "    }\n",
       "\n",
       "    .dataframe tbody tr th {\n",
       "        vertical-align: top;\n",
       "    }\n",
       "\n",
       "    .dataframe thead th {\n",
       "        text-align: right;\n",
       "    }\n",
       "</style>\n",
       "<table border=\"1\" class=\"dataframe\">\n",
       "  <thead>\n",
       "    <tr style=\"text-align: right;\">\n",
       "      <th></th>\n",
       "      <th>team_api_id</th>\n",
       "      <th>match_count</th>\n",
       "      <th>total_goals</th>\n",
       "      <th>goals_per_game</th>\n",
       "      <th>AVG(buildUpPlaySpeed)</th>\n",
       "      <th>AVG(buildUpPlayPassing)</th>\n",
       "      <th>AVG(chanceCreationPassing)</th>\n",
       "      <th>AVG(chanceCreationCrossing)</th>\n",
       "      <th>AVG(chanceCreationShooting)</th>\n",
       "      <th>AVG(defencePressure)</th>\n",
       "      <th>AVG(defenceAggression)</th>\n",
       "      <th>AVG(defenceTeamWidth)</th>\n",
       "      <th>team_long_name</th>\n",
       "    </tr>\n",
       "  </thead>\n",
       "  <tbody>\n",
       "    <tr>\n",
       "      <th>0</th>\n",
       "      <td>1601</td>\n",
       "      <td>92</td>\n",
       "      <td>193</td>\n",
       "      <td>2.097826</td>\n",
       "      <td>47.333333</td>\n",
       "      <td>46.166667</td>\n",
       "      <td>55.500000</td>\n",
       "      <td>60.333333</td>\n",
       "      <td>53.5</td>\n",
       "      <td>47.166667</td>\n",
       "      <td>47.333333</td>\n",
       "      <td>49.333333</td>\n",
       "      <td>Ruch Chorzów</td>\n",
       "    </tr>\n",
       "    <tr>\n",
       "      <th>1</th>\n",
       "      <td>1773</td>\n",
       "      <td>22</td>\n",
       "      <td>61</td>\n",
       "      <td>2.772727</td>\n",
       "      <td>52.000000</td>\n",
       "      <td>50.000000</td>\n",
       "      <td>50.000000</td>\n",
       "      <td>53.000000</td>\n",
       "      <td>54.0</td>\n",
       "      <td>43.000000</td>\n",
       "      <td>44.000000</td>\n",
       "      <td>50.000000</td>\n",
       "      <td>Oud-Heverlee Leuven</td>\n",
       "    </tr>\n",
       "    <tr>\n",
       "      <th>2</th>\n",
       "      <td>1957</td>\n",
       "      <td>87</td>\n",
       "      <td>186</td>\n",
       "      <td>2.137931</td>\n",
       "      <td>47.166667</td>\n",
       "      <td>52.666667</td>\n",
       "      <td>50.833333</td>\n",
       "      <td>36.333333</td>\n",
       "      <td>67.0</td>\n",
       "      <td>49.333333</td>\n",
       "      <td>56.333333</td>\n",
       "      <td>53.666667</td>\n",
       "      <td>Jagiellonia Białystok</td>\n",
       "    </tr>\n",
       "    <tr>\n",
       "      <th>3</th>\n",
       "      <td>2033</td>\n",
       "      <td>32</td>\n",
       "      <td>55</td>\n",
       "      <td>1.718750</td>\n",
       "      <td>49.000000</td>\n",
       "      <td>48.400000</td>\n",
       "      <td>51.800000</td>\n",
       "      <td>44.200000</td>\n",
       "      <td>48.2</td>\n",
       "      <td>42.200000</td>\n",
       "      <td>33.800000</td>\n",
       "      <td>45.400000</td>\n",
       "      <td>S.C. Olhanense</td>\n",
       "    </tr>\n",
       "    <tr>\n",
       "      <th>4</th>\n",
       "      <td>2182</td>\n",
       "      <td>124</td>\n",
       "      <td>298</td>\n",
       "      <td>2.403226</td>\n",
       "      <td>60.333333</td>\n",
       "      <td>49.000000</td>\n",
       "      <td>56.666667</td>\n",
       "      <td>57.333333</td>\n",
       "      <td>68.0</td>\n",
       "      <td>51.666667</td>\n",
       "      <td>48.500000</td>\n",
       "      <td>54.500000</td>\n",
       "      <td>Lech Poznań</td>\n",
       "    </tr>\n",
       "  </tbody>\n",
       "</table>\n",
       "</div>"
      ],
      "text/plain": [
       "   team_api_id  match_count  total_goals  goals_per_game  \\\n",
       "0         1601           92          193        2.097826   \n",
       "1         1773           22           61        2.772727   \n",
       "2         1957           87          186        2.137931   \n",
       "3         2033           32           55        1.718750   \n",
       "4         2182          124          298        2.403226   \n",
       "\n",
       "   AVG(buildUpPlaySpeed)  AVG(buildUpPlayPassing)  AVG(chanceCreationPassing)  \\\n",
       "0              47.333333                46.166667                   55.500000   \n",
       "1              52.000000                50.000000                   50.000000   \n",
       "2              47.166667                52.666667                   50.833333   \n",
       "3              49.000000                48.400000                   51.800000   \n",
       "4              60.333333                49.000000                   56.666667   \n",
       "\n",
       "   AVG(chanceCreationCrossing)  AVG(chanceCreationShooting)  \\\n",
       "0                    60.333333                         53.5   \n",
       "1                    53.000000                         54.0   \n",
       "2                    36.333333                         67.0   \n",
       "3                    44.200000                         48.2   \n",
       "4                    57.333333                         68.0   \n",
       "\n",
       "   AVG(defencePressure)  AVG(defenceAggression)  AVG(defenceTeamWidth)  \\\n",
       "0             47.166667               47.333333              49.333333   \n",
       "1             43.000000               44.000000              50.000000   \n",
       "2             49.333333               56.333333              53.666667   \n",
       "3             42.200000               33.800000              45.400000   \n",
       "4             51.666667               48.500000              54.500000   \n",
       "\n",
       "          team_long_name  \n",
       "0           Ruch Chorzów  \n",
       "1    Oud-Heverlee Leuven  \n",
       "2  Jagiellonia Białystok  \n",
       "3         S.C. Olhanense  \n",
       "4            Lech Poznań  "
      ]
     },
     "execution_count": 280,
     "metadata": {},
     "output_type": "execute_result"
    }
   ],
   "source": [
    "df_win.head()"
   ]
  },
  {
   "cell_type": "code",
   "execution_count": 281,
   "metadata": {},
   "outputs": [
    {
     "data": {
      "text/plain": [
       "(299, 13)"
      ]
     },
     "execution_count": 281,
     "metadata": {},
     "output_type": "execute_result"
    }
   ],
   "source": [
    "df_win.shape"
   ]
  },
  {
   "cell_type": "code",
   "execution_count": 282,
   "metadata": {
    "scrolled": true
   },
   "outputs": [],
   "source": [
    "df_top = df_win.loc[(df_win['AVG(buildUpPlaySpeed)']>52.462277)\\\n",
    "           & (df_win['AVG(buildUpPlayPassing)']>48.490398)\\\n",
    "           & (df_win['AVG(chanceCreationPassing)']>52.165295)\\\n",
    "           & (df_win['AVG(chanceCreationCrossing)']>53.731824)\\\n",
    "           & (df_win['AVG(chanceCreationShooting)']>53.969136)\\\n",
    "           & (df_win['AVG(defencePressure)']>46.017147)\\\n",
    "           & (df_win['AVG(defenceAggression)']>49.251029)\\\n",
    "           & (df_win['AVG(defenceTeamWidth)']>52.185871)]\n",
    "          "
   ]
  },
  {
   "cell_type": "code",
   "execution_count": 283,
   "metadata": {
    "scrolled": false
   },
   "outputs": [],
   "source": [
    "#List stats for top teams\n",
    "df = df_top['team_long_name']"
   ]
  },
  {
   "cell_type": "code",
   "execution_count": 284,
   "metadata": {},
   "outputs": [
    {
     "data": {
      "text/plain": [
       "86      Hamilton Academical FC\n",
       "132                    Falkirk\n",
       "135    Wolverhampton Wanderers\n",
       "206           Grenoble Foot 38\n",
       "209        Heart of Midlothian\n",
       "233                     Celtic\n",
       "242          Standard de Liège\n",
       "Name: team_long_name, dtype: object"
      ]
     },
     "execution_count": 284,
     "metadata": {},
     "output_type": "execute_result"
    }
   ],
   "source": [
    "df"
   ]
  },
  {
   "cell_type": "code",
   "execution_count": 285,
   "metadata": {
    "scrolled": true
   },
   "outputs": [
    {
     "data": {
      "image/png": "[encoded data removed]",
      "text/plain": [
       "<Figure size 720x720 with 12 Axes>"
      ]
     },
     "metadata": {
      "needs_background": "light"
     },
     "output_type": "display_data"
    }
   ],
   "source": [
    "#Visuals for Top Performing Teams\n",
    "\n",
    "df_top.hist(figsize=(10,10));"
   ]
  },
  {
   "cell_type": "markdown",
   "metadata": {},
   "source": [
    "Top performing team attributes seem to be in general skewed to the right"
   ]
  },
  {
   "cell_type": "markdown",
   "metadata": {},
   "source": [
    "Test Impact of Build Up Play Dribbling Column"
   ]
  },
  {
   "cell_type": "code",
   "execution_count": 286,
   "metadata": {},
   "outputs": [
    {
     "data": {
      "text/html": [
       "<div>\n",
       "<style scoped>\n",
       "    .dataframe tbody tr th:only-of-type {\n",
       "        vertical-align: middle;\n",
       "    }\n",
       "\n",
       "    .dataframe tbody tr th {\n",
       "        vertical-align: top;\n",
       "    }\n",
       "\n",
       "    .dataframe thead th {\n",
       "        text-align: right;\n",
       "    }\n",
       "</style>\n",
       "<table border=\"1\" class=\"dataframe\">\n",
       "  <thead>\n",
       "    <tr style=\"text-align: right;\">\n",
       "      <th></th>\n",
       "      <th>id</th>\n",
       "      <th>team_fifa_api_id</th>\n",
       "      <th>team_api_id</th>\n",
       "      <th>date</th>\n",
       "      <th>buildUpPlaySpeed</th>\n",
       "      <th>buildUpPlaySpeedClass</th>\n",
       "      <th>buildUpPlayDribbling</th>\n",
       "      <th>buildUpPlayDribblingClass</th>\n",
       "      <th>buildUpPlayPassing</th>\n",
       "      <th>buildUpPlayPassingClass</th>\n",
       "      <th>...</th>\n",
       "      <th>chanceCreationShooting</th>\n",
       "      <th>chanceCreationShootingClass</th>\n",
       "      <th>chanceCreationPositioningClass</th>\n",
       "      <th>defencePressure</th>\n",
       "      <th>defencePressureClass</th>\n",
       "      <th>defenceAggression</th>\n",
       "      <th>defenceAggressionClass</th>\n",
       "      <th>defenceTeamWidth</th>\n",
       "      <th>defenceTeamWidthClass</th>\n",
       "      <th>defenceDefenderLineClass</th>\n",
       "    </tr>\n",
       "  </thead>\n",
       "  <tbody>\n",
       "    <tr>\n",
       "      <th>0</th>\n",
       "      <td>1</td>\n",
       "      <td>434</td>\n",
       "      <td>9930</td>\n",
       "      <td>2010-02-22 00:00:00</td>\n",
       "      <td>60</td>\n",
       "      <td>Balanced</td>\n",
       "      <td>NaN</td>\n",
       "      <td>Little</td>\n",
       "      <td>50</td>\n",
       "      <td>Mixed</td>\n",
       "      <td>...</td>\n",
       "      <td>55</td>\n",
       "      <td>Normal</td>\n",
       "      <td>Organised</td>\n",
       "      <td>50</td>\n",
       "      <td>Medium</td>\n",
       "      <td>55</td>\n",
       "      <td>Press</td>\n",
       "      <td>45</td>\n",
       "      <td>Normal</td>\n",
       "      <td>Cover</td>\n",
       "    </tr>\n",
       "    <tr>\n",
       "      <th>1</th>\n",
       "      <td>2</td>\n",
       "      <td>434</td>\n",
       "      <td>9930</td>\n",
       "      <td>2014-09-19 00:00:00</td>\n",
       "      <td>52</td>\n",
       "      <td>Balanced</td>\n",
       "      <td>48.0</td>\n",
       "      <td>Normal</td>\n",
       "      <td>56</td>\n",
       "      <td>Mixed</td>\n",
       "      <td>...</td>\n",
       "      <td>64</td>\n",
       "      <td>Normal</td>\n",
       "      <td>Organised</td>\n",
       "      <td>47</td>\n",
       "      <td>Medium</td>\n",
       "      <td>44</td>\n",
       "      <td>Press</td>\n",
       "      <td>54</td>\n",
       "      <td>Normal</td>\n",
       "      <td>Cover</td>\n",
       "    </tr>\n",
       "    <tr>\n",
       "      <th>2</th>\n",
       "      <td>3</td>\n",
       "      <td>434</td>\n",
       "      <td>9930</td>\n",
       "      <td>2015-09-10 00:00:00</td>\n",
       "      <td>47</td>\n",
       "      <td>Balanced</td>\n",
       "      <td>41.0</td>\n",
       "      <td>Normal</td>\n",
       "      <td>54</td>\n",
       "      <td>Mixed</td>\n",
       "      <td>...</td>\n",
       "      <td>64</td>\n",
       "      <td>Normal</td>\n",
       "      <td>Organised</td>\n",
       "      <td>47</td>\n",
       "      <td>Medium</td>\n",
       "      <td>44</td>\n",
       "      <td>Press</td>\n",
       "      <td>54</td>\n",
       "      <td>Normal</td>\n",
       "      <td>Cover</td>\n",
       "    </tr>\n",
       "    <tr>\n",
       "      <th>3</th>\n",
       "      <td>4</td>\n",
       "      <td>77</td>\n",
       "      <td>8485</td>\n",
       "      <td>2010-02-22 00:00:00</td>\n",
       "      <td>70</td>\n",
       "      <td>Fast</td>\n",
       "      <td>NaN</td>\n",
       "      <td>Little</td>\n",
       "      <td>70</td>\n",
       "      <td>Long</td>\n",
       "      <td>...</td>\n",
       "      <td>70</td>\n",
       "      <td>Lots</td>\n",
       "      <td>Organised</td>\n",
       "      <td>60</td>\n",
       "      <td>Medium</td>\n",
       "      <td>70</td>\n",
       "      <td>Double</td>\n",
       "      <td>70</td>\n",
       "      <td>Wide</td>\n",
       "      <td>Cover</td>\n",
       "    </tr>\n",
       "    <tr>\n",
       "      <th>4</th>\n",
       "      <td>5</td>\n",
       "      <td>77</td>\n",
       "      <td>8485</td>\n",
       "      <td>2011-02-22 00:00:00</td>\n",
       "      <td>47</td>\n",
       "      <td>Balanced</td>\n",
       "      <td>NaN</td>\n",
       "      <td>Little</td>\n",
       "      <td>52</td>\n",
       "      <td>Mixed</td>\n",
       "      <td>...</td>\n",
       "      <td>52</td>\n",
       "      <td>Normal</td>\n",
       "      <td>Organised</td>\n",
       "      <td>47</td>\n",
       "      <td>Medium</td>\n",
       "      <td>47</td>\n",
       "      <td>Press</td>\n",
       "      <td>52</td>\n",
       "      <td>Normal</td>\n",
       "      <td>Cover</td>\n",
       "    </tr>\n",
       "  </tbody>\n",
       "</table>\n",
       "<p>5 rows × 25 columns</p>\n",
       "</div>"
      ],
      "text/plain": [
       "   id  team_fifa_api_id  team_api_id                 date  buildUpPlaySpeed  \\\n",
       "0   1               434         9930  2010-02-22 00:00:00                60   \n",
       "1   2               434         9930  2014-09-19 00:00:00                52   \n",
       "2   3               434         9930  2015-09-10 00:00:00                47   \n",
       "3   4                77         8485  2010-02-22 00:00:00                70   \n",
       "4   5                77         8485  2011-02-22 00:00:00                47   \n",
       "\n",
       "  buildUpPlaySpeedClass  buildUpPlayDribbling buildUpPlayDribblingClass  \\\n",
       "0              Balanced                   NaN                    Little   \n",
       "1              Balanced                  48.0                    Normal   \n",
       "2              Balanced                  41.0                    Normal   \n",
       "3                  Fast                   NaN                    Little   \n",
       "4              Balanced                   NaN                    Little   \n",
       "\n",
       "   buildUpPlayPassing buildUpPlayPassingClass  ... chanceCreationShooting  \\\n",
       "0                  50                   Mixed  ...                     55   \n",
       "1                  56                   Mixed  ...                     64   \n",
       "2                  54                   Mixed  ...                     64   \n",
       "3                  70                    Long  ...                     70   \n",
       "4                  52                   Mixed  ...                     52   \n",
       "\n",
       "   chanceCreationShootingClass chanceCreationPositioningClass  \\\n",
       "0                       Normal                      Organised   \n",
       "1                       Normal                      Organised   \n",
       "2                       Normal                      Organised   \n",
       "3                         Lots                      Organised   \n",
       "4                       Normal                      Organised   \n",
       "\n",
       "   defencePressure defencePressureClass  defenceAggression  \\\n",
       "0               50               Medium                 55   \n",
       "1               47               Medium                 44   \n",
       "2               47               Medium                 44   \n",
       "3               60               Medium                 70   \n",
       "4               47               Medium                 47   \n",
       "\n",
       "  defenceAggressionClass defenceTeamWidth  defenceTeamWidthClass  \\\n",
       "0                  Press               45                 Normal   \n",
       "1                  Press               54                 Normal   \n",
       "2                  Press               54                 Normal   \n",
       "3                 Double               70                   Wide   \n",
       "4                  Press               52                 Normal   \n",
       "\n",
       "  defenceDefenderLineClass  \n",
       "0                    Cover  \n",
       "1                    Cover  \n",
       "2                    Cover  \n",
       "3                    Cover  \n",
       "4                    Cover  \n",
       "\n",
       "[5 rows x 25 columns]"
      ]
     },
     "execution_count": 286,
     "metadata": {},
     "output_type": "execute_result"
    }
   ],
   "source": [
    "df_team_att_old.head()"
   ]
  },
  {
   "cell_type": "code",
   "execution_count": 287,
   "metadata": {},
   "outputs": [
    {
     "data": {
      "text/plain": [
       "((288, 10), (1, 9))"
      ]
     },
     "execution_count": 287,
     "metadata": {},
     "output_type": "execute_result"
    }
   ],
   "source": [
    "#Aggregate Team Attributes and use mean value of statistics including dropped column\n",
    "\n",
    "df_team_stat_test = mysql('Select team_api_id,AVG(buildUpPlaySpeed),AVG(buildUpPlayPassing),\\\n",
    "                        AVG(chanceCreationPassing),AVG(chanceCreationCrossing),AVG(chanceCreationShooting),\\\n",
    "                        AVG(defencePressure),AVG(defenceAggression),AVG(defenceTeamWidth), AVG(buildUpPlayDribbling)\\\n",
    "                        from df_team_att_old\\\n",
    "                        group by team_api_id;')\n",
    "\n",
    "#Calculate the mean statistics for the full data set including dropped column\n",
    "\n",
    "df_mean_stat_test = mysql('Select AVG(buildUpPlaySpeed),AVG(buildUpPlayPassing),\\\n",
    "                        AVG(chanceCreationPassing),AVG(chanceCreationCrossing),AVG(chanceCreationShooting),\\\n",
    "                        AVG(defencePressure),AVG(defenceAggression),AVG(defenceTeamWidth),AVG(buildUpPlayDribbling)\\\n",
    "                        from df_team_att_old;')\n",
    "df_team_stat_test.shape, df_mean_stat_test.shape"
   ]
  },
  {
   "cell_type": "code",
   "execution_count": 288,
   "metadata": {},
   "outputs": [
    {
     "data": {
      "text/html": [
       "<div>\n",
       "<style scoped>\n",
       "    .dataframe tbody tr th:only-of-type {\n",
       "        vertical-align: middle;\n",
       "    }\n",
       "\n",
       "    .dataframe tbody tr th {\n",
       "        vertical-align: top;\n",
       "    }\n",
       "\n",
       "    .dataframe thead th {\n",
       "        text-align: right;\n",
       "    }\n",
       "</style>\n",
       "<table border=\"1\" class=\"dataframe\">\n",
       "  <thead>\n",
       "    <tr style=\"text-align: right;\">\n",
       "      <th></th>\n",
       "      <th>team_api_id</th>\n",
       "      <th>match_count</th>\n",
       "      <th>total_goals</th>\n",
       "      <th>goals_per_game</th>\n",
       "      <th>id</th>\n",
       "      <th>team_long_name</th>\n",
       "      <th>team_short_name</th>\n",
       "    </tr>\n",
       "  </thead>\n",
       "  <tbody>\n",
       "    <tr>\n",
       "      <th>0</th>\n",
       "      <td>1601</td>\n",
       "      <td>92</td>\n",
       "      <td>193</td>\n",
       "      <td>2.097826</td>\n",
       "      <td>31446</td>\n",
       "      <td>Ruch Chorzów</td>\n",
       "      <td>CHO</td>\n",
       "    </tr>\n",
       "    <tr>\n",
       "      <th>1</th>\n",
       "      <td>1773</td>\n",
       "      <td>22</td>\n",
       "      <td>61</td>\n",
       "      <td>2.772727</td>\n",
       "      <td>1513</td>\n",
       "      <td>Oud-Heverlee Leuven</td>\n",
       "      <td>O-H</td>\n",
       "    </tr>\n",
       "    <tr>\n",
       "      <th>2</th>\n",
       "      <td>1957</td>\n",
       "      <td>87</td>\n",
       "      <td>186</td>\n",
       "      <td>2.137931</td>\n",
       "      <td>31456</td>\n",
       "      <td>Jagiellonia Białystok</td>\n",
       "      <td>BIA</td>\n",
       "    </tr>\n",
       "    <tr>\n",
       "      <th>3</th>\n",
       "      <td>2033</td>\n",
       "      <td>32</td>\n",
       "      <td>55</td>\n",
       "      <td>1.718750</td>\n",
       "      <td>35774</td>\n",
       "      <td>S.C. Olhanense</td>\n",
       "      <td>OLH</td>\n",
       "    </tr>\n",
       "    <tr>\n",
       "      <th>4</th>\n",
       "      <td>2182</td>\n",
       "      <td>124</td>\n",
       "      <td>298</td>\n",
       "      <td>2.403226</td>\n",
       "      <td>31453</td>\n",
       "      <td>Lech Poznań</td>\n",
       "      <td>POZ</td>\n",
       "    </tr>\n",
       "  </tbody>\n",
       "</table>\n",
       "</div>"
      ],
      "text/plain": [
       "   team_api_id  match_count  total_goals  goals_per_game     id  \\\n",
       "0         1601           92          193        2.097826  31446   \n",
       "1         1773           22           61        2.772727   1513   \n",
       "2         1957           87          186        2.137931  31456   \n",
       "3         2033           32           55        1.718750  35774   \n",
       "4         2182          124          298        2.403226  31453   \n",
       "\n",
       "          team_long_name team_short_name  \n",
       "0           Ruch Chorzów             CHO  \n",
       "1    Oud-Heverlee Leuven             O-H  \n",
       "2  Jagiellonia Białystok             BIA  \n",
       "3         S.C. Olhanense             OLH  \n",
       "4            Lech Poznań             POZ  "
      ]
     },
     "execution_count": 288,
     "metadata": {},
     "output_type": "execute_result"
    }
   ],
   "source": [
    "#Append team name for easier understanding\n",
    "\n",
    "df_win_test = df_win_test.merge(df_team, on=['team_api_id','team_api_id'], how='left')\n",
    "\n",
    "\n",
    "#Sanity Check\n",
    "df_win_test.head() "
   ]
  },
  {
   "cell_type": "code",
   "execution_count": 289,
   "metadata": {},
   "outputs": [],
   "source": [
    "#drop id, team_short name\n",
    "df_win_test.drop(['id', 'team_short_name'], axis=1, inplace=True)"
   ]
  },
  {
   "cell_type": "code",
   "execution_count": 290,
   "metadata": {},
   "outputs": [
    {
     "data": {
      "text/html": [
       "<div>\n",
       "<style scoped>\n",
       "    .dataframe tbody tr th:only-of-type {\n",
       "        vertical-align: middle;\n",
       "    }\n",
       "\n",
       "    .dataframe tbody tr th {\n",
       "        vertical-align: top;\n",
       "    }\n",
       "\n",
       "    .dataframe thead th {\n",
       "        text-align: right;\n",
       "    }\n",
       "</style>\n",
       "<table border=\"1\" class=\"dataframe\">\n",
       "  <thead>\n",
       "    <tr style=\"text-align: right;\">\n",
       "      <th></th>\n",
       "      <th>team_api_id</th>\n",
       "      <th>match_count</th>\n",
       "      <th>total_goals</th>\n",
       "      <th>goals_per_game</th>\n",
       "      <th>team_long_name</th>\n",
       "    </tr>\n",
       "  </thead>\n",
       "  <tbody>\n",
       "    <tr>\n",
       "      <th>0</th>\n",
       "      <td>1601</td>\n",
       "      <td>92</td>\n",
       "      <td>193</td>\n",
       "      <td>2.097826</td>\n",
       "      <td>Ruch Chorzów</td>\n",
       "    </tr>\n",
       "    <tr>\n",
       "      <th>1</th>\n",
       "      <td>1773</td>\n",
       "      <td>22</td>\n",
       "      <td>61</td>\n",
       "      <td>2.772727</td>\n",
       "      <td>Oud-Heverlee Leuven</td>\n",
       "    </tr>\n",
       "    <tr>\n",
       "      <th>2</th>\n",
       "      <td>1957</td>\n",
       "      <td>87</td>\n",
       "      <td>186</td>\n",
       "      <td>2.137931</td>\n",
       "      <td>Jagiellonia Białystok</td>\n",
       "    </tr>\n",
       "    <tr>\n",
       "      <th>3</th>\n",
       "      <td>2033</td>\n",
       "      <td>32</td>\n",
       "      <td>55</td>\n",
       "      <td>1.718750</td>\n",
       "      <td>S.C. Olhanense</td>\n",
       "    </tr>\n",
       "    <tr>\n",
       "      <th>4</th>\n",
       "      <td>2182</td>\n",
       "      <td>124</td>\n",
       "      <td>298</td>\n",
       "      <td>2.403226</td>\n",
       "      <td>Lech Poznań</td>\n",
       "    </tr>\n",
       "  </tbody>\n",
       "</table>\n",
       "</div>"
      ],
      "text/plain": [
       "   team_api_id  match_count  total_goals  goals_per_game  \\\n",
       "0         1601           92          193        2.097826   \n",
       "1         1773           22           61        2.772727   \n",
       "2         1957           87          186        2.137931   \n",
       "3         2033           32           55        1.718750   \n",
       "4         2182          124          298        2.403226   \n",
       "\n",
       "          team_long_name  \n",
       "0           Ruch Chorzów  \n",
       "1    Oud-Heverlee Leuven  \n",
       "2  Jagiellonia Białystok  \n",
       "3         S.C. Olhanense  \n",
       "4            Lech Poznań  "
      ]
     },
     "execution_count": 290,
     "metadata": {},
     "output_type": "execute_result"
    }
   ],
   "source": [
    "df_win_test.head()"
   ]
  },
  {
   "cell_type": "code",
   "execution_count": 291,
   "metadata": {
    "scrolled": true
   },
   "outputs": [
    {
     "data": {
      "text/html": [
       "<div>\n",
       "<style scoped>\n",
       "    .dataframe tbody tr th:only-of-type {\n",
       "        vertical-align: middle;\n",
       "    }\n",
       "\n",
       "    .dataframe tbody tr th {\n",
       "        vertical-align: top;\n",
       "    }\n",
       "\n",
       "    .dataframe thead th {\n",
       "        text-align: right;\n",
       "    }\n",
       "</style>\n",
       "<table border=\"1\" class=\"dataframe\">\n",
       "  <thead>\n",
       "    <tr style=\"text-align: right;\">\n",
       "      <th></th>\n",
       "      <th>team_api_id</th>\n",
       "      <th>match_count</th>\n",
       "      <th>total_goals</th>\n",
       "      <th>goals_per_game</th>\n",
       "      <th>team_long_name</th>\n",
       "      <th>AVG(buildUpPlaySpeed)</th>\n",
       "      <th>AVG(buildUpPlayPassing)</th>\n",
       "      <th>AVG(chanceCreationPassing)</th>\n",
       "      <th>AVG(chanceCreationCrossing)</th>\n",
       "      <th>AVG(chanceCreationShooting)</th>\n",
       "      <th>AVG(defencePressure)</th>\n",
       "      <th>AVG(defenceAggression)</th>\n",
       "      <th>AVG(defenceTeamWidth)</th>\n",
       "      <th>AVG(buildUpPlayDribbling)</th>\n",
       "    </tr>\n",
       "  </thead>\n",
       "  <tbody>\n",
       "    <tr>\n",
       "      <th>0</th>\n",
       "      <td>1601</td>\n",
       "      <td>92</td>\n",
       "      <td>193</td>\n",
       "      <td>2.097826</td>\n",
       "      <td>Ruch Chorzów</td>\n",
       "      <td>47.333333</td>\n",
       "      <td>46.166667</td>\n",
       "      <td>55.500000</td>\n",
       "      <td>60.333333</td>\n",
       "      <td>53.5</td>\n",
       "      <td>47.166667</td>\n",
       "      <td>47.333333</td>\n",
       "      <td>49.333333</td>\n",
       "      <td>48.0</td>\n",
       "    </tr>\n",
       "    <tr>\n",
       "      <th>1</th>\n",
       "      <td>1773</td>\n",
       "      <td>22</td>\n",
       "      <td>61</td>\n",
       "      <td>2.772727</td>\n",
       "      <td>Oud-Heverlee Leuven</td>\n",
       "      <td>52.000000</td>\n",
       "      <td>50.000000</td>\n",
       "      <td>50.000000</td>\n",
       "      <td>53.000000</td>\n",
       "      <td>54.0</td>\n",
       "      <td>43.000000</td>\n",
       "      <td>44.000000</td>\n",
       "      <td>50.000000</td>\n",
       "      <td>51.0</td>\n",
       "    </tr>\n",
       "    <tr>\n",
       "      <th>2</th>\n",
       "      <td>1957</td>\n",
       "      <td>87</td>\n",
       "      <td>186</td>\n",
       "      <td>2.137931</td>\n",
       "      <td>Jagiellonia Białystok</td>\n",
       "      <td>47.166667</td>\n",
       "      <td>52.666667</td>\n",
       "      <td>50.833333</td>\n",
       "      <td>36.333333</td>\n",
       "      <td>67.0</td>\n",
       "      <td>49.333333</td>\n",
       "      <td>56.333333</td>\n",
       "      <td>53.666667</td>\n",
       "      <td>54.0</td>\n",
       "    </tr>\n",
       "    <tr>\n",
       "      <th>3</th>\n",
       "      <td>2033</td>\n",
       "      <td>32</td>\n",
       "      <td>55</td>\n",
       "      <td>1.718750</td>\n",
       "      <td>S.C. Olhanense</td>\n",
       "      <td>49.000000</td>\n",
       "      <td>48.400000</td>\n",
       "      <td>51.800000</td>\n",
       "      <td>44.200000</td>\n",
       "      <td>48.2</td>\n",
       "      <td>42.200000</td>\n",
       "      <td>33.800000</td>\n",
       "      <td>45.400000</td>\n",
       "      <td>62.0</td>\n",
       "    </tr>\n",
       "    <tr>\n",
       "      <th>4</th>\n",
       "      <td>2182</td>\n",
       "      <td>124</td>\n",
       "      <td>298</td>\n",
       "      <td>2.403226</td>\n",
       "      <td>Lech Poznań</td>\n",
       "      <td>60.333333</td>\n",
       "      <td>49.000000</td>\n",
       "      <td>56.666667</td>\n",
       "      <td>57.333333</td>\n",
       "      <td>68.0</td>\n",
       "      <td>51.666667</td>\n",
       "      <td>48.500000</td>\n",
       "      <td>54.500000</td>\n",
       "      <td>52.5</td>\n",
       "    </tr>\n",
       "  </tbody>\n",
       "</table>\n",
       "</div>"
      ],
      "text/plain": [
       "   team_api_id  match_count  total_goals  goals_per_game  \\\n",
       "0         1601           92          193        2.097826   \n",
       "1         1773           22           61        2.772727   \n",
       "2         1957           87          186        2.137931   \n",
       "3         2033           32           55        1.718750   \n",
       "4         2182          124          298        2.403226   \n",
       "\n",
       "          team_long_name  AVG(buildUpPlaySpeed)  AVG(buildUpPlayPassing)  \\\n",
       "0           Ruch Chorzów              47.333333                46.166667   \n",
       "1    Oud-Heverlee Leuven              52.000000                50.000000   \n",
       "2  Jagiellonia Białystok              47.166667                52.666667   \n",
       "3         S.C. Olhanense              49.000000                48.400000   \n",
       "4            Lech Poznań              60.333333                49.000000   \n",
       "\n",
       "   AVG(chanceCreationPassing)  AVG(chanceCreationCrossing)  \\\n",
       "0                   55.500000                    60.333333   \n",
       "1                   50.000000                    53.000000   \n",
       "2                   50.833333                    36.333333   \n",
       "3                   51.800000                    44.200000   \n",
       "4                   56.666667                    57.333333   \n",
       "\n",
       "   AVG(chanceCreationShooting)  AVG(defencePressure)  AVG(defenceAggression)  \\\n",
       "0                         53.5             47.166667               47.333333   \n",
       "1                         54.0             43.000000               44.000000   \n",
       "2                         67.0             49.333333               56.333333   \n",
       "3                         48.2             42.200000               33.800000   \n",
       "4                         68.0             51.666667               48.500000   \n",
       "\n",
       "   AVG(defenceTeamWidth)  AVG(buildUpPlayDribbling)  \n",
       "0              49.333333                       48.0  \n",
       "1              50.000000                       51.0  \n",
       "2              53.666667                       54.0  \n",
       "3              45.400000                       62.0  \n",
       "4              54.500000                       52.5  "
      ]
     },
     "execution_count": 291,
     "metadata": {},
     "output_type": "execute_result"
    }
   ],
   "source": [
    "#Append team mean performance to match win data\n",
    "df_win_test = pd.merge(df_win_test ,df_team_stat_test ,on=['team_api_id','team_api_id'], how='left')\n",
    "df_win_test.head()"
   ]
  },
  {
   "cell_type": "code",
   "execution_count": 292,
   "metadata": {},
   "outputs": [
    {
     "data": {
      "text/html": [
       "<div>\n",
       "<style scoped>\n",
       "    .dataframe tbody tr th:only-of-type {\n",
       "        vertical-align: middle;\n",
       "    }\n",
       "\n",
       "    .dataframe tbody tr th {\n",
       "        vertical-align: top;\n",
       "    }\n",
       "\n",
       "    .dataframe thead th {\n",
       "        text-align: right;\n",
       "    }\n",
       "</style>\n",
       "<table border=\"1\" class=\"dataframe\">\n",
       "  <thead>\n",
       "    <tr style=\"text-align: right;\">\n",
       "      <th></th>\n",
       "      <th>AVG(buildUpPlaySpeed)</th>\n",
       "      <th>AVG(buildUpPlayPassing)</th>\n",
       "      <th>AVG(chanceCreationPassing)</th>\n",
       "      <th>AVG(chanceCreationCrossing)</th>\n",
       "      <th>AVG(chanceCreationShooting)</th>\n",
       "      <th>AVG(defencePressure)</th>\n",
       "      <th>AVG(defenceAggression)</th>\n",
       "      <th>AVG(defenceTeamWidth)</th>\n",
       "      <th>AVG(buildUpPlayDribbling)</th>\n",
       "    </tr>\n",
       "  </thead>\n",
       "  <tbody>\n",
       "    <tr>\n",
       "      <th>0</th>\n",
       "      <td>52.462277</td>\n",
       "      <td>48.490398</td>\n",
       "      <td>52.165295</td>\n",
       "      <td>53.731824</td>\n",
       "      <td>53.969136</td>\n",
       "      <td>46.017147</td>\n",
       "      <td>49.251029</td>\n",
       "      <td>52.185871</td>\n",
       "      <td>48.607362</td>\n",
       "    </tr>\n",
       "  </tbody>\n",
       "</table>\n",
       "</div>"
      ],
      "text/plain": [
       "   AVG(buildUpPlaySpeed)  AVG(buildUpPlayPassing)  AVG(chanceCreationPassing)  \\\n",
       "0              52.462277                48.490398                   52.165295   \n",
       "\n",
       "   AVG(chanceCreationCrossing)  AVG(chanceCreationShooting)  \\\n",
       "0                    53.731824                    53.969136   \n",
       "\n",
       "   AVG(defencePressure)  AVG(defenceAggression)  AVG(defenceTeamWidth)  \\\n",
       "0             46.017147               49.251029              52.185871   \n",
       "\n",
       "   AVG(buildUpPlayDribbling)  \n",
       "0                  48.607362  "
      ]
     },
     "execution_count": 292,
     "metadata": {},
     "output_type": "execute_result"
    }
   ],
   "source": [
    "df_mean_stat_test #Display Mean Stats with Dropped Column"
   ]
  },
  {
   "cell_type": "code",
   "execution_count": 293,
   "metadata": {},
   "outputs": [],
   "source": [
    "df_top_test = df_win_test.loc[(df_win_test['AVG(buildUpPlaySpeed)']>52.462277)\\\n",
    "           & (df_win_test['AVG(buildUpPlayPassing)']>48.490398)\\\n",
    "           & (df_win_test['AVG(chanceCreationPassing)']>52.165295)\\\n",
    "           & (df_win_test['AVG(chanceCreationCrossing)']>53.731824)\\\n",
    "           & (df_win_test['AVG(chanceCreationShooting)']>53.969136)\\\n",
    "           & (df_win_test['AVG(defencePressure)']>46.017147)\\\n",
    "           & (df_win_test['AVG(defenceAggression)']>49.251029)\\\n",
    "           & (df_win_test['AVG(defenceTeamWidth)']>52.185871)\\\n",
    "           & (df_win_test['AVG(buildUpPlayDribbling)']>48.607362)]"
   ]
  },
  {
   "cell_type": "code",
   "execution_count": 294,
   "metadata": {},
   "outputs": [
    {
     "data": {
      "text/html": [
       "<div>\n",
       "<style scoped>\n",
       "    .dataframe tbody tr th:only-of-type {\n",
       "        vertical-align: middle;\n",
       "    }\n",
       "\n",
       "    .dataframe tbody tr th {\n",
       "        vertical-align: top;\n",
       "    }\n",
       "\n",
       "    .dataframe thead th {\n",
       "        text-align: right;\n",
       "    }\n",
       "</style>\n",
       "<table border=\"1\" class=\"dataframe\">\n",
       "  <thead>\n",
       "    <tr style=\"text-align: right;\">\n",
       "      <th></th>\n",
       "      <th>team_api_id</th>\n",
       "      <th>match_count</th>\n",
       "      <th>total_goals</th>\n",
       "      <th>goals_per_game</th>\n",
       "      <th>team_long_name</th>\n",
       "      <th>AVG(buildUpPlaySpeed)</th>\n",
       "      <th>AVG(buildUpPlayPassing)</th>\n",
       "      <th>AVG(chanceCreationPassing)</th>\n",
       "      <th>AVG(chanceCreationCrossing)</th>\n",
       "      <th>AVG(chanceCreationShooting)</th>\n",
       "      <th>AVG(defencePressure)</th>\n",
       "      <th>AVG(defenceAggression)</th>\n",
       "      <th>AVG(defenceTeamWidth)</th>\n",
       "      <th>AVG(buildUpPlayDribbling)</th>\n",
       "    </tr>\n",
       "  </thead>\n",
       "  <tbody>\n",
       "    <tr>\n",
       "      <th>209</th>\n",
       "      <td>9860</td>\n",
       "      <td>101</td>\n",
       "      <td>219</td>\n",
       "      <td>2.168317</td>\n",
       "      <td>Heart of Midlothian</td>\n",
       "      <td>59.600000</td>\n",
       "      <td>60.000000</td>\n",
       "      <td>58.400000</td>\n",
       "      <td>63.800000</td>\n",
       "      <td>64.000000</td>\n",
       "      <td>53.400000</td>\n",
       "      <td>59.000000</td>\n",
       "      <td>61.400000</td>\n",
       "      <td>51.0</td>\n",
       "    </tr>\n",
       "    <tr>\n",
       "      <th>233</th>\n",
       "      <td>9925</td>\n",
       "      <td>218</td>\n",
       "      <td>613</td>\n",
       "      <td>2.811927</td>\n",
       "      <td>Celtic</td>\n",
       "      <td>61.333333</td>\n",
       "      <td>57.333333</td>\n",
       "      <td>55.666667</td>\n",
       "      <td>60.833333</td>\n",
       "      <td>60.833333</td>\n",
       "      <td>53.333333</td>\n",
       "      <td>54.333333</td>\n",
       "      <td>62.166667</td>\n",
       "      <td>50.5</td>\n",
       "    </tr>\n",
       "  </tbody>\n",
       "</table>\n",
       "</div>"
      ],
      "text/plain": [
       "     team_api_id  match_count  total_goals  goals_per_game  \\\n",
       "209         9860          101          219        2.168317   \n",
       "233         9925          218          613        2.811927   \n",
       "\n",
       "          team_long_name  AVG(buildUpPlaySpeed)  AVG(buildUpPlayPassing)  \\\n",
       "209  Heart of Midlothian              59.600000                60.000000   \n",
       "233               Celtic              61.333333                57.333333   \n",
       "\n",
       "     AVG(chanceCreationPassing)  AVG(chanceCreationCrossing)  \\\n",
       "209                   58.400000                    63.800000   \n",
       "233                   55.666667                    60.833333   \n",
       "\n",
       "     AVG(chanceCreationShooting)  AVG(defencePressure)  \\\n",
       "209                    64.000000             53.400000   \n",
       "233                    60.833333             53.333333   \n",
       "\n",
       "     AVG(defenceAggression)  AVG(defenceTeamWidth)  AVG(buildUpPlayDribbling)  \n",
       "209               59.000000              61.400000                       51.0  \n",
       "233               54.333333              62.166667                       50.5  "
      ]
     },
     "execution_count": 294,
     "metadata": {},
     "output_type": "execute_result"
    }
   ],
   "source": [
    "df_top_test"
   ]
  },
  {
   "cell_type": "markdown",
   "metadata": {},
   "source": [
    "It is observed that adding the buildUpPlayDribbling column reduces the number of above average performing teams to 2"
   ]
  },
  {
   "cell_type": "markdown",
   "metadata": {},
   "source": [
    "## Limitations\n",
    "\n",
    "This analysis is limited to the available dataset and excludes any effect from the columns that were dropped from the analysis.\n",
    "\n",
    "The scores, lineup, team formation and events source data at http://football-data.mx-api.enetscores.com was not accessible as the site was not functioning.\n",
    "\n",
    "The players and teams attributes from EA Sports FIFA games at http://sofifa.com/ was mapped, however the impact of the attribute classes was not considered in this analysis.\n",
    "\n",
    "The betting attributes and impact on performance were not assesed during this analysis.\n",
    "\n",
    "With only 969 entries for buildUpPlayDribbling column missing in the list from a total of 1458 (66% of the dataset missing) the effect of the attribute could not be properly assessed.\n",
    "\n",
    "<a id='conclusions'></a>\n",
    "\n",
    "## Conclusions\n",
    "\n",
    "- A team is more likely to win a home game than an away team (46% vs. 29%)\n",
    "- The Spanish league had the most scored goals in the 2008/2009 season\n",
    "- Teams with above average stats were assumed to be, based on personal bias, one of the mainstream teams from within the popular leagues, but the analysis displayed a totally unexpected set of teams, despite that most team statistics are normally distributed\n",
    "- Winning teams score an average 2.2 goals per game\n",
    "- There is a 75 % propability that a game will end with a win with only a 25% of a draw. \n",
    "- 5 teams appear to have above average stats when excluding the buildUpPlayDribbling while only 2 from the original list are included when the buildUpPlayDribbling column is included, the impact of the attribute could not be properly quantified. The impact is 60% on the identified teams and hence is dropped from the assesment as the 66% missing values could not be extrapolated from the current data sample.\n",
    "- The above average teams in terms of performance are :\n",
    "    * 86      Hamilton Academical FC\n",
    "    * 132                    Falkirk\n",
    "    * 135    Wolverhampton Wanderers\n",
    "    * 206           Grenoble Foot 38\n",
    "    * 209        Heart of Midlothian\n",
    "    * 233                     Celtic\n",
    "    * 242          Standard de Liège\n",
    "\n",
    "\n",
    "\n"
   ]
  }
 ],
 "metadata": {
  "kernelspec": {
   "display_name": "Python 3 (ipykernel)",
   "language": "python",
   "name": "python3"
  },
  "language_info": {
   "codemirror_mode": {
    "name": "ipython",
    "version": 3
   },
   "file_extension": ".py",
   "mimetype": "text/x-python",
   "name": "python",
   "nbconvert_exporter": "python",
   "pygments_lexer": "ipython3",
   "version": "3.9.9"
  }
 },
 "nbformat": 4,
 "nbformat_minor": 2
}
